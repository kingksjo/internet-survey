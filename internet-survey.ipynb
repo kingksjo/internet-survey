{
 "cells": [
  {
   "cell_type": "markdown",
   "metadata": {},
   "source": [
    "# Analysis of Internet Quality in a University Campus"
   ]
  },
  {
   "cell_type": "markdown",
   "metadata": {},
   "source": [
    "#### **Understanding the problem**\n",
    "The students of Airforce Institute of Technology are being haunted by a very discouraging internet connectivity problem, it has lead to a very poor student experience overall because it makes the students have to account for the best workaround or trade-off for their poor network before carrying out any activities which is very time comsuming and hinders their productivity.\n",
    "\n",
    "#### **Objectives**\n",
    "- Clean and normalize the data loaded into the SQLite database from the ETL pipeline that was setup.\n",
    "- Perform EDA on the data, to identify potential inconsistencies and to gain better insights on the survey.\n",
    "- Identify which key factors contribute the most to the `campus_internet_satisfaction` feature\n",
    "- Use the identified factors to investigate what the true cause of poor internet on campus is.\n",
    "- Use generatve AI and/or NLP to analyze `suggestions_for_improvement` to know what students believe will solve the issue.\n",
    "- Use Machine Learning to predict what the satisfaction level of a new student would most likely be.\n",
    "- Build a dashboard that expresses all the key factors contributing to internet satisfaction."
   ]
  },
  {
   "cell_type": "code",
   "execution_count": 1,
   "metadata": {},
   "outputs": [],
   "source": [
    "import sqlite3\n",
    "import numpy as np\n",
    "import pandas as pd\n",
    "import matplotlib.pyplot as plt\n",
    "import seaborn as sns\n",
    "import plotly.express as px\n",
    "import plotly.graph_objects as go\n",
    "from plotly.offline import init_notebook_mode, iplot\n",
    "sns.set_style(\"whitegrid\")"
   ]
  },
  {
   "cell_type": "code",
   "execution_count": 2,
   "metadata": {},
   "outputs": [],
   "source": [
    "conn = sqlite3.connect(\"survey_data.db\")\n",
    "\n",
    "# Create a DataFrame from the \"survey_responses\" table\n",
    "data = pd.read_sql_query(\"SELECT * FROM survey_responses\", conn)\n",
    "\n",
    "conn.close()"
   ]
  },
  {
   "cell_type": "markdown",
   "metadata": {},
   "source": [
    "## Data Cleaning and Normalization"
   ]
  },
  {
   "cell_type": "code",
   "execution_count": 3,
   "metadata": {},
   "outputs": [
    {
     "data": {
      "application/vnd.microsoft.datawrangler.viewer.v0+json": {
       "columns": [
        {
         "name": "index",
         "rawType": "int64",
         "type": "integer"
        },
        {
         "name": "timestamp",
         "rawType": "datetime64[ns]",
         "type": "datetime"
        },
        {
         "name": "gender",
         "rawType": "object",
         "type": "string"
        },
        {
         "name": "school_year",
         "rawType": "object",
         "type": "string"
        },
        {
         "name": "program_faculty",
         "rawType": "object",
         "type": "string"
        },
        {
         "name": "residence",
         "rawType": "object",
         "type": "string"
        },
        {
         "name": "most_used_device",
         "rawType": "object",
         "type": "string"
        },
        {
         "name": "most_time_spent_on",
         "rawType": "object",
         "type": "string"
        },
        {
         "name": "daily_online_time_on_campus",
         "rawType": "object",
         "type": "string"
        },
        {
         "name": "most_active_time_on_campus",
         "rawType": "object",
         "type": "string"
        },
        {
         "name": "primary_internet_providers",
         "rawType": "object",
         "type": "string"
        },
        {
         "name": "internet_provider_choice_factors",
         "rawType": "object",
         "type": "string"
        },
        {
         "name": "monthly_internet_spend",
         "rawType": "object",
         "type": "string"
        },
        {
         "name": "monthly_data_usage_gb",
         "rawType": "object",
         "type": "string"
        },
        {
         "name": "campus_internet_satisfaction",
         "rawType": "object",
         "type": "string"
        },
        {
         "name": "internet_issues_frequency",
         "rawType": "object",
         "type": "string"
        },
        {
         "name": "main_internet_issues",
         "rawType": "object",
         "type": "string"
        },
        {
         "name": "mtn_experience_rating",
         "rawType": "float64",
         "type": "float"
        },
        {
         "name": "airtel_experience_rating",
         "rawType": "float64",
         "type": "float"
        },
        {
         "name": "glo_experience_rating",
         "rawType": "float64",
         "type": "float"
        },
        {
         "name": "nine_mobile_experience_rating",
         "rawType": "float64",
         "type": "float"
        },
        {
         "name": "afit_cict_experience_rating",
         "rawType": "float64",
         "type": "float"
        },
        {
         "name": "poor_service_coping_methods",
         "rawType": "object",
         "type": "string"
        },
        {
         "name": "academic_impact_of_poor_internet",
         "rawType": "object",
         "type": "string"
        },
        {
         "name": "financial_impact_of_poor_internet",
         "rawType": "object",
         "type": "string"
        },
        {
         "name": "planning_to_switch_provider",
         "rawType": "object",
         "type": "string"
        },
        {
         "name": "suggestions_for_improvement",
         "rawType": "object",
         "type": "string"
        }
       ],
       "conversionMethod": "pd.DataFrame",
       "ref": "277a9b2d-e760-44aa-9360-c5a6e6c0e115",
       "rows": [
        [
         "0",
         "2025-02-13 01:39:04",
         "Male",
         "400L",
         "Faculty of Ground and Communications Engineering",
         "School Hostel",
         "Laptop",
         "Video Streaming, Socials, Messaging",
         "5 - 8 hours",
         "After Dark (12am - 5am)",
         "Airtel, AFIT CICT",
         "Internet speed, Data Plans",
         "5000 - 8000 Naira",
         "Above 40 GB",
         "Dissatisfied",
         "Frequently",
         "Slow internet, Difficulty using some apps or services",
         "2.0",
         "3.0",
         "0.0",
         "0.0",
         "3.0",
         "Using multiple providers, Changing location when in need of internet",
         "Yes",
         "Yes",
         "Maybe",
         "None"
        ],
        [
         "1",
         "2025-02-13 01:44:37",
         "Male",
         "400L",
         "Faculty of Air Engineering",
         "Barkallahu",
         "Phone",
         "Socials",
         "3 -5 hours",
         "Afternoon",
         "MTN, Airtel, GLO",
         "Internet speed, Data Plans",
         "Above 20000 Naira",
         "Above 40 GB",
         "Very Dissatisfied",
         "Always",
         "Slow internet, Internet connection is completely unavailable",
         "1.0",
         "1.0",
         "3.0",
         "0.0",
         "2.0",
         "Using multiple providers",
         "Yes",
         "No",
         "Yes",
         "None"
        ],
        [
         "2",
         "2025-02-13 01:52:48",
         "Male",
         "400L",
         "Faculty of Ground and Communications Engineering",
         "Barkallahu",
         "Phone",
         "Video Streaming, Socials, Productivity/Work",
         "Less than 1 hour",
         "Evening",
         "MTN",
         "Reliability, Internet speed",
         "8000 - 15000 Naira",
         "Above 40 GB",
         "Dissatisfied",
         "Frequently",
         "Slow internet, Difficulty using some apps or services",
         "2.0",
         "0.0",
         "0.0",
         "0.0",
         "2.0",
         "Changing location when in need of internet, Relying on friends for internet",
         "No",
         "No",
         "No",
         "None"
        ],
        [
         "3",
         "2025-02-13 01:58:11",
         "Male",
         "400L",
         "Faculty of Ground and Communications Engineering",
         "Barkallahu",
         "Phone",
         "Socials, Messaging, Productivity/Work",
         "Less than 1 hour",
         "Afternoon",
         "MTN, Airtel, GLO",
         "Reliability, Internet speed",
         "8000 - 15000 Naira",
         "Above 40 GB",
         "Very Dissatisfied",
         "Rarely",
         "Slow internet, Difficulty using some apps or services",
         "1.0",
         "2.0",
         "3.0",
         "0.0",
         "2.0",
         "Using multiple providers, Changing location when in need of internet, Relying on friends for internet",
         "No",
         "Yes",
         "Maybe",
         "Disable the \"scramblers\" if there are or find ways to improve network works speeds on campus and/or increase the school's WiFi reliability "
        ],
        [
         "4",
         "2025-02-13 02:01:31",
         "Male",
         "400L",
         "Faculty of Ground and Communications Engineering",
         "Barkallahu",
         "Phone",
         "Video Streaming, Messaging, Productivity/Work",
         "3 -5 hours",
         "Afternoon",
         "MTN, Airtel, AFIT CICT",
         "Internet speed, Data Plans",
         "5000 - 8000 Naira",
         "Above 40 GB",
         "Very Dissatisfied",
         "Always",
         "Slow internet, No coverage in certain areas",
         "1.0",
         "1.0",
         "0.0",
         "0.0",
         "1.0",
         "Using multiple providers",
         "Yes",
         "Yes",
         "No",
         "Better WiFi and service provider connectivity "
        ],
        [
         "5",
         "2025-02-13 02:22:20",
         "Male",
         "400L",
         "Faculty of Air Engineering",
         "Barkallahu",
         "Laptop",
         "Productivity/Work",
         "5 - 8 hours",
         "Night",
         "Airtel, GLO",
         "Internet speed",
         "1000 - 3000 Naira",
         "30 - 40 GB",
         "Very Dissatisfied",
         "Always",
         "Slow internet, No coverage in certain areas",
         "1.0",
         "2.0",
         "3.0",
         "1.0",
         "2.0",
         "Using multiple providers",
         "Yes",
         "Yes",
         "Yes",
         "None"
        ],
        [
         "6",
         "2025-02-13 02:36:10",
         "Male",
         "400L",
         "Faculty of Air Engineering",
         "Agric Quarters",
         "Phone",
         "Socials, Messaging, Productivity/Work, Readable content",
         "3 -5 hours",
         "Morning",
         "MTN, Airtel",
         "Reliability",
         "5000 - 8000 Naira",
         "10 - 20 GB",
         "Very Dissatisfied",
         "Always",
         "Frequent disconnection, No coverage in certain areas",
         "0.0",
         "3.0",
         "0.0",
         "0.0",
         "0.0",
         "Changing location when in need of internet, Relying on friends for internet",
         "No",
         "No",
         "No",
         "Seek consultation from internet providers one or 2 of any"
        ],
        [
         "7",
         "2025-02-13 02:44:47",
         "Male",
         "400L",
         "Faculty of Ground and Communications Engineering",
         "School Hostel",
         "Phone",
         "Socials, Messaging, Productivity/Work",
         "3 -5 hours",
         "After Dark (12am - 5am)",
         "Airtel, GLO",
         "Internet speed, Data Plans",
         "5000 - 8000 Naira",
         "Above 40 GB",
         "Dissatisfied",
         "Frequently",
         "Slow internet, No coverage in certain areas",
         "0.0",
         "3.0",
         "3.0",
         "0.0",
         "2.0",
         "Changing location when in need of internet",
         "Yes",
         "Yes",
         "Maybe",
         "Make wifi faster"
        ],
        [
         "8",
         "2025-02-13 03:04:32",
         "Female",
         "400L",
         "Faculty of Air Engineering",
         "School Hostel",
         "Phone",
         "Movie & TV downloads, Socials, Readable content",
         "Less than 1 hour",
         "Morning",
         "MTN",
         "Internet speed, Data Plans",
         "15000 - 20000 Naira",
         "Above 40 GB",
         "Dissatisfied",
         "Always",
         "Slow internet, No coverage in certain areas",
         "1.0",
         "0.0",
         "0.0",
         "0.0",
         "2.0",
         "Thugging it out ",
         "No",
         "No",
         "Maybe",
         "None"
        ],
        [
         "9",
         "2025-02-13 03:05:33",
         "Female",
         "100L",
         "Faculty of Air Engineering",
         "Mando",
         "Laptop",
         "Gaming",
         "1 - 3 hours",
         "Night",
         "AFIT CICT",
         "Reliability",
         "5000 - 8000 Naira",
         "10 - 20 GB",
         "Neutral",
         "Occasionally",
         "Frequent disconnection",
         "0.0",
         "3.0",
         "0.0",
         "0.0",
         "0.0",
         "Changing location when in need of internet",
         "Yes",
         "No",
         "Maybe",
         "Omo"
        ],
        [
         "10",
         "2025-02-13 05:49:31",
         "Male",
         "400L",
         "Faculty of Air Engineering",
         "Barkallahu",
         "Phone",
         "Video Streaming, Movie & TV downloads, Audio streaming or downloads",
         "5 - 8 hours",
         "Afternoon",
         "MTN, Airtel",
         "Reliability, Internet speed",
         "5000 - 8000 Naira",
         "30 - 40 GB",
         "Very Dissatisfied",
         "Always",
         "Slow internet, No coverage in certain areas",
         "1.0",
         "1.0",
         "0.0",
         "0.0",
         "2.0",
         "Using multiple providers, Changing location when in need of internet",
         "Yes",
         "Yes",
         "No",
         "Install a faster wifi connection with wider coverage to augment the bad network from service providers "
        ],
        [
         "11",
         "2025-02-13 05:51:45",
         "Male",
         "Graduate",
         "Faculty of Air Engineering",
         "Commute outside Kaduna",
         "Phone",
         "Messaging, Productivity/Work, Readable content",
         "1 - 3 hours",
         "Morning",
         "MTN, Airtel, AFIT CICT",
         "Internet speed, Data Plans",
         "3000 - 5000 Naira",
         "30 - 40 GB",
         "Very Dissatisfied",
         "Always",
         "Slow internet, Frequent disconnection, Difficulty using some apps or services, No coverage in certain areas",
         "3.0",
         "2.0",
         "2.0",
         "2.0",
         "1.0",
         "Using multiple providers, Changing location when in need of internet, Relying on friends for internet",
         "Yes",
         "Yes",
         "Maybe",
         "None"
        ],
        [
         "12",
         "2025-02-13 06:21:41",
         "Male",
         "300L",
         "Faculty of Ground and Communications Engineering",
         "Airforce Base",
         "Phone",
         "Audio streaming or downloads",
         "5 - 8 hours",
         "Evening",
         "Airtel",
         "Internet speed, Data Plans",
         "5000 - 8000 Naira",
         "20 - 30 GB",
         "Dissatisfied",
         "Always",
         "Slow internet, Frequent disconnection, Internet connection is completely unavailable",
         "0.0",
         "1.0",
         "0.0",
         "0.0",
         "0.0",
         "Relying on friends for internet",
         "Yes",
         "Yes",
         "Maybe",
         "We need mass constructed in afit"
        ],
        [
         "13",
         "2025-02-13 06:28:01",
         "Male",
         "500L",
         "Faculty of Ground and Communications Engineering",
         "Commute within Kaduna",
         "Phone",
         "Messaging, Productivity/Work, Readable content",
         "1 - 3 hours",
         "Afternoon",
         "Airtel",
         "Internet speed",
         "15000 - 20000 Naira",
         "Above 40 GB",
         "Dissatisfied",
         "Always",
         "Slow internet, No coverage in certain areas",
         "2.0",
         "2.0",
         "3.0",
         "3.0",
         "3.0",
         "Changing location when in need of internet",
         "Yes",
         "Yes",
         "Maybe",
         "Provide a network buster "
        ],
        [
         "14",
         "2025-02-13 06:37:30",
         "Male",
         "Graduate",
         "Faculty of Computing",
         "Mando",
         "Phone",
         "Gaming, Video Streaming, Productivity/Work, Readable content",
         "5 - 8 hours",
         "Afternoon",
         "MTN, Airtel",
         "Reliability, Internet speed, Data Plans",
         "5000 - 8000 Naira",
         "10 - 20 GB",
         "Neutral",
         "Occasionally",
         "Slow internet, No coverage in certain areas",
         "5.0",
         "4.0",
         "1.0",
         "1.0",
         "3.0",
         "Using multiple providers",
         "No",
         "Yes",
         "Maybe",
         "The institution should look for reliable and strong connectivity providers so that the connections can be strong "
        ],
        [
         "15",
         "2025-02-13 06:43:11",
         "Female",
         "400L",
         "Faculty of Ground and Communications Engineering",
         "Airforce Base",
         "Phone",
         "Productivity/Work",
         "5 - 8 hours",
         "Evening",
         "MTN",
         "Data Plans",
         "3000 - 5000 Naira",
         "20 - 30 GB",
         "Dissatisfied",
         "Frequently",
         "Slow internet, Frequent disconnection, Internet connection is completely unavailable",
         "2.0",
         "0.0",
         "0.0",
         "2.0",
         "3.0",
         "Using multiple providers, Changing location when in need of internet",
         "Yes",
         "Yes",
         "Yes",
         "The Base station controller is occupied, If here is a way to increasing it they should."
        ],
        [
         "16",
         "2025-02-13 07:01:46",
         "Male",
         "Graduate",
         "Faculty of Social and Management Sciences",
         "Barkallahu",
         "Phone",
         "Productivity/Work",
         "1 - 3 hours",
         "Evening",
         "MTN, Airtel, AFIT CICT, SpaceX Starlink",
         "Reliability, Data Plans",
         "5000 - 8000 Naira",
         "20 - 30 GB",
         "Very Satisfied",
         "Rarely",
         "Slow internet, Difficulty using some apps or services",
         "4.0",
         "3.0",
         "4.0",
         "5.0",
         "4.0",
         "Changing location when in need of internet",
         "No",
         "No",
         "Yes",
         "None"
        ],
        [
         "17",
         "2025-02-13 07:22:16",
         "Male",
         "500L",
         "Faculty of Air Engineering",
         "School Hostel",
         "Phone",
         "Movie & TV downloads, Socials, Messaging",
         "5 - 8 hours",
         "Night",
         "MTN, Airtel",
         "Internet speed, Data Plans",
         "5000 - 8000 Naira",
         "30 - 40 GB",
         "Dissatisfied",
         "Occasionally",
         "Slow internet, No coverage in certain areas",
         "2.0",
         "2.0",
         "3.0",
         "1.0",
         "3.0",
         "Using multiple providers, Changing location when in need of internet",
         "No",
         "Yes",
         "No",
         "None"
        ],
        [
         "18",
         "2025-02-13 07:22:49",
         "Male",
         "400L",
         "Faculty of Computing",
         "Airforce Base",
         "Phone",
         "Movie & TV downloads, Socials, Productivity/Work",
         "5 - 8 hours",
         "Afternoon",
         "MTN, GLO, AFIT CICT",
         "Reliability, Internet speed, Data Plans",
         "5000 - 8000 Naira",
         "Above 40 GB",
         "Very Dissatisfied",
         "Always",
         "Slow internet, Frequent disconnection",
         "3.0",
         "0.0",
         "4.0",
         "0.0",
         "3.0",
         "Using multiple providers, Changing location when in need of internet, Relying on friends for internet",
         "Yes",
         "Yes",
         "Maybe",
         "None"
        ],
        [
         "19",
         "2025-02-13 07:34:37",
         "Male",
         "200L",
         "Faculty of Air Engineering",
         "School Hostel",
         "Phone",
         "Video Streaming, Socials",
         "3 -5 hours",
         "Afternoon",
         "Airtel",
         "Internet speed",
         "15000 - 20000 Naira",
         "20 - 30 GB",
         "Dissatisfied",
         "Occasionally",
         "No coverage in certain areas",
         "0.0",
         "2.0",
         "0.0",
         "0.0",
         "0.0",
         "Changing location when in need of internet, Relying on friends for internet",
         "Yes",
         "No",
         "Yes",
         "None"
        ],
        [
         "20",
         "2025-02-13 07:34:50",
         "Male",
         "100L",
         "Faculty of Air Engineering",
         "School Hostel",
         "Phone",
         "Gaming",
         "1 - 3 hours",
         "Afternoon",
         "Airtel",
         "Internet speed, Data Plans",
         "1000 - 3000 Naira",
         "10 - 20 GB",
         "Dissatisfied",
         "Occasionally",
         "Slow internet, Frequent disconnection",
         "1.0",
         "2.0",
         "0.0",
         "0.0",
         "2.0",
         "Changing location when in need of internet",
         "No",
         "No",
         "No",
         "None"
        ],
        [
         "21",
         "2025-02-13 07:44:39",
         "Male",
         "500L",
         "Faculty of Ground and Communications Engineering",
         "School Hostel",
         "Phone",
         "Video Streaming, Socials, Messaging, Audio streaming or downloads, Readable content",
         "8 hours plus",
         "Evening",
         "GLO, AFIT CICT",
         "Internet speed, Data Plans",
         "5000 - 8000 Naira",
         "20 - 30 GB",
         "Dissatisfied",
         "Frequently",
         "Frequent disconnection, No coverage in certain areas",
         "0.0",
         "0.0",
         "0.0",
         "0.0",
         "0.0",
         "Changing location when in need of internet",
         "Yes",
         "Yes",
         "No",
         "None"
        ],
        [
         "22",
         "2025-02-13 07:48:42",
         "Male",
         "300L",
         "Faculty of Ground and Communications Engineering",
         "School Hostel",
         "Phone",
         "Socials, Messaging",
         "5 - 8 hours",
         "Morning",
         "MTN, Airtel",
         "Reliability, Data Plans",
         "3000 - 5000 Naira",
         "20 - 30 GB",
         "Neutral",
         "Occasionally",
         "No coverage in certain areas",
         "2.0",
         "3.0",
         "1.0",
         "1.0",
         "2.0",
         "Using multiple providers, Changing location when in need of internet",
         "Yes",
         "Yes",
         "Maybe",
         "AFIT should make the CICT more reliable for student "
        ],
        [
         "23",
         "2025-02-13 07:50:37",
         "Male",
         "400L",
         "Faculty of Computing",
         "Barkallahu",
         "Laptop",
         "Video Streaming, Socials, Audio streaming or downloads, Productivity/Work",
         "1 - 3 hours",
         "Afternoon",
         "MTN",
         "Internet speed",
         "15000 - 20000 Naira",
         "2 - 10 GB",
         "Dissatisfied",
         "Always",
         "Slow internet, No coverage in certain areas",
         "3.0",
         "4.0",
         "0.0",
         "0.0",
         "2.0",
         "Changing location when in need of internet, Relying on friends for internet",
         "No",
         "Yes",
         "No",
         "None"
        ],
        [
         "24",
         "2025-02-13 08:11:19",
         "Male",
         "400L",
         "Faculty of Ground and Communications Engineering",
         "Commute within Kaduna",
         "Phone",
         "Video Streaming, Productivity/Work, Readable content",
         "Less than 1 hour",
         "Morning",
         "MTN",
         "Reliability",
         "5000 - 8000 Naira",
         "Above 40 GB",
         "Dissatisfied",
         "Frequently",
         "No coverage in certain areas",
         "1.0",
         "0.0",
         "0.0",
         "0.0",
         "2.0",
         "Changing location when in need of internet",
         "No",
         "No",
         "No",
         "None"
        ],
        [
         "25",
         "2025-02-13 08:11:46",
         "Male",
         "200L",
         "Faculty of Ground and Communications Engineering",
         "School Hostel",
         "Phone",
         "Productivity/Work",
         "3 -5 hours",
         "Afternoon",
         "MTN, Airtel",
         "Reliability, Internet speed",
         "8000 - 15000 Naira",
         "Above 40 GB",
         "Very Dissatisfied",
         "Frequently",
         "Internet connection is completely unavailable",
         "0.0",
         "1.0",
         "0.0",
         "0.0",
         "0.0",
         "Using multiple providers, Changing location when in need of internet",
         "Yes",
         "Yes",
         "Yes",
         "Maybe provision of masses"
        ],
        [
         "26",
         "2025-02-13 08:15:23",
         "Male",
         "400L",
         "Faculty of Computing",
         "Agric Quarters",
         "Phone",
         "Gaming, Socials, Audio streaming or downloads",
         "5 - 8 hours",
         "Morning",
         "MTN, Airtel",
         "Internet speed",
         "Above 20000 Naira",
         "Above 40 GB",
         "Dissatisfied",
         "Occasionally",
         "Slow internet, Frequent disconnection",
         "4.0",
         "3.0",
         "3.0",
         "1.0",
         "2.0",
         "Using multiple providers",
         "Yes",
         "Yes",
         "Maybe",
         "Afit should make sure that, there WiFis effective and reliable "
        ],
        [
         "27",
         "2025-02-13 08:20:30",
         "Male",
         "200L",
         "Faculty of Ground and Communications Engineering",
         "School Hostel",
         "Phone",
         "Video Streaming, Socials",
         "Less than 1 hour",
         "Night",
         "Airtel, GLO",
         "Internet speed",
         "5000 - 8000 Naira",
         "10 - 20 GB",
         "Neutral",
         "Frequently",
         "Slow internet, Frequent disconnection",
         "2.0",
         "3.0",
         "3.0",
         "2.0",
         "2.0",
         "Using multiple providers, Changing location when in need of internet",
         "No",
         "Yes",
         "No",
         "Yes, Afit should if possible provide a stable network coverage within some area in school i.e Hostel, Classes and other places where students mingles"
        ],
        [
         "28",
         "2025-02-13 08:23:32",
         "Male",
         "400L",
         "Faculty of Air Engineering",
         "Barkallahu",
         "Phone",
         "Movie & TV downloads, Socials, Messaging, Audio streaming or downloads, Productivity/Work, Readable content",
         "5 - 8 hours",
         "Morning",
         "MTN, Airtel, GLO",
         "Reliability, Internet speed, Data Plans, Customer Service",
         "8000 - 15000 Naira",
         "Above 40 GB",
         "Dissatisfied",
         "Occasionally",
         "Slow internet, No coverage in certain areas",
         "2.0",
         "2.0",
         "3.0",
         "1.0",
         "1.0",
         "Using multiple providers",
         "Yes",
         "Yes",
         "No",
         "Make network stable all round school campus...\nIt's annoying you want to send money to Keke man and you'll now be looking for network. Outside AFIT it's very different "
        ],
        [
         "29",
         "2025-02-13 08:32:54",
         "Male",
         "400L",
         "Faculty of Ground and Communications Engineering",
         "School Hostel",
         "Phone",
         "ALL THE ABOVE",
         "5 - 8 hours",
         "Evening",
         "MTN",
         "Reliability, Internet speed",
         "8000 - 15000 Naira",
         "20 - 30 GB",
         "Very Dissatisfied",
         "Always",
         "No coverage in certain areas, Internet connection is completely unavailable",
         "1.0",
         "0.0",
         "0.0",
         "0.0",
         "0.0",
         "Changing location when in need of internet, Relying on friends for internet",
         "Yes",
         "Yes",
         "Yes",
         "More network infrastructures"
        ],
        [
         "30",
         "2025-02-13 08:39:57",
         "Male",
         "400L",
         "Faculty of Air Engineering",
         "School Hostel",
         "Laptop",
         "Gaming, Video Streaming, Movie & TV downloads, Socials",
         "3 -5 hours",
         "After Dark (12am - 5am)",
         "Airtel, GLO, AFIT CICT",
         "Reliability, Internet speed, Data Plans",
         "1000 - 3000 Naira",
         "30 - 40 GB",
         "Neutral",
         "Always",
         "Slow internet, No coverage in certain areas",
         "0.0",
         "4.0",
         "3.0",
         "0.0",
         "3.0",
         "Using multiple providers",
         "Yes",
         "Yes",
         "Maybe",
         "Nope"
        ],
        [
         "31",
         "2025-02-13 08:42:12",
         "Male",
         "400L",
         "Faculty of Ground and Communications Engineering",
         "Barkallahu",
         "Phone",
         "Audio streaming or downloads, Readable content",
         "Less than 1 hour",
         "Afternoon",
         "MTN, AFIT CICT",
         "Internet speed",
         "Above 20000 Naira",
         "30 - 40 GB",
         "Very Dissatisfied",
         "Frequently",
         "No coverage in certain areas",
         "1.0",
         "0.0",
         "0.0",
         "0.0",
         "4.0",
         "Changing location when in need of internet",
         "Yes",
         "Yes",
         "Maybe",
         "None"
        ],
        [
         "32",
         "2025-02-13 08:42:29",
         "Male",
         "400L",
         "Faculty of Ground and Communications Engineering",
         "School Hostel",
         "Phone",
         "Gaming, Socials, Productivity/Work",
         "5 - 8 hours",
         "Night",
         "MTN",
         "Reliability, Internet speed",
         "1000 - 3000 Naira",
         "2 - 10 GB",
         "Neutral",
         "Frequently",
         "Slow internet, No coverage in certain areas",
         "4.0",
         "2.0",
         "0.0",
         "0.0",
         "0.0",
         "Making use of Campus Wifi",
         "No",
         "No",
         "Yes",
         "Not really \nI personally just feel that additional network towers should be installed in key remote areas of the base to enhance coverage "
        ],
        [
         "33",
         "2025-02-13 08:43:57",
         "Male",
         "200L",
         "Faculty of Computing",
         "Mando",
         "Phone",
         "Video Streaming, Messaging, Productivity/Work, Readable content",
         "Less than 1 hour",
         "Evening",
         "MTN, AFIT CICT",
         "Reliability, Internet speed",
         "3000 - 5000 Naira",
         "20 - 30 GB",
         "Very Dissatisfied",
         "Always",
         "Slow internet, Frequent disconnection, Difficulty using some apps or services, No coverage in certain areas, Internet connection is completely unavailable",
         "2.0",
         "0.0",
         "0.0",
         "0.0",
         "1.0",
         "Changing location when in need of internet, Relying on friends for internet",
         "Yes",
         "No",
         "Maybe",
         "Afit should use a better isp and network should be spread around where it is needed the most"
        ],
        [
         "34",
         "2025-02-13 08:49:10",
         "Male",
         "400L",
         "Faculty of Ground and Communications Engineering",
         "Kawo",
         "Phone",
         "Productivity/Work",
         "3 -5 hours",
         "Afternoon",
         "MTN",
         "Data Plans",
         "8000 - 15000 Naira",
         "Above 40 GB",
         "Dissatisfied",
         "Always",
         "Slow internet",
         "2.0",
         "2.0",
         "0.0",
         "0.0",
         "3.0",
         "Changing location when in need of internet",
         "Yes",
         "No",
         "Yes",
         "None"
        ],
        [
         "35",
         "2025-02-13 08:51:02",
         "Male",
         "400L",
         "Faculty of Air Engineering",
         "School Hostel",
         "Phone",
         "Gaming, Socials, Productivity/Work",
         "Less than 1 hour",
         "After Dark (12am - 5am)",
         "MTN, GLO",
         "Reliability, Data Plans",
         "3000 - 5000 Naira",
         "20 - 30 GB",
         "Dissatisfied",
         "Frequently",
         "No coverage in certain areas, Internet connection is completely unavailable",
         "2.0",
         "0.0",
         "2.0",
         "0.0",
         "2.0",
         "Changing location when in need of internet",
         "Yes",
         "Yes",
         "No",
         "None"
        ],
        [
         "36",
         "2025-02-13 08:53:49",
         "Male",
         "500L",
         "Faculty of Air Engineering",
         "School Hostel",
         "Phone",
         "Movie & TV downloads, Socials, Audio streaming or downloads, Productivity/Work",
         "8 hours plus",
         "Night",
         "GLO, AFIT CICT",
         "Reliability, Internet speed, Data Plans",
         "5000 - 8000 Naira",
         "20 - 30 GB",
         "Neutral",
         "Occasionally",
         "Slow internet, No coverage in certain areas",
         "2.0",
         "0.0",
         "4.0",
         "0.0",
         "4.0",
         "Using multiple providers",
         "Yes",
         "No",
         "Maybe",
         "More masts and more Wifi instalments"
        ],
        [
         "37",
         "2025-02-13 08:57:55",
         "Male",
         "300L",
         "Faculty of Ground and Communications Engineering",
         "Barkallahu",
         "Phone",
         "Movie & TV downloads, Productivity/Work",
         "3 -5 hours",
         "Afternoon",
         "MTN, Airtel, GLO, AFIT CICT",
         "Internet speed, Data Plans",
         "8000 - 15000 Naira",
         "30 - 40 GB",
         "Dissatisfied",
         "Frequently",
         "Slow internet, No coverage in certain areas",
         "3.0",
         "3.0",
         "2.0",
         "2.0",
         "2.0",
         "Changing location when in need of internet",
         "Yes",
         "Yes",
         "Yes",
         "Try to increase the amount of internet mask of different networks around AFIT"
        ],
        [
         "38",
         "2025-02-13 08:59:44",
         "Male",
         "400L",
         "Faculty of Air Engineering",
         "School Hostel",
         "Phone",
         "Socials, Messaging, Audio streaming or downloads, Productivity/Work, Readable content",
         "8 hours plus",
         "Night",
         "MTN",
         "Reliability, Internet speed",
         "5000 - 8000 Naira",
         "30 - 40 GB",
         "Dissatisfied",
         "Frequently",
         "Slow internet, Difficulty using some apps or services",
         "3.0",
         "0.0",
         "0.0",
         "0.0",
         "0.0",
         "Using multiple providers, Changing location when in need of internet, Relying on friends for internet",
         "Yes",
         "Yes",
         "Maybe",
         "None"
        ],
        [
         "39",
         "2025-02-13 09:00:09",
         "Male",
         "400L",
         "Faculty of Air Engineering",
         "Airforce Base",
         "Phone",
         "Movie & TV downloads, Socials, Productivity/Work, Readable content",
         "5 - 8 hours",
         "Morning",
         "GLO",
         "Data Plans, Customer Service",
         "8000 - 15000 Naira",
         "Above 40 GB",
         "Neutral",
         "Occasionally",
         "No coverage in certain areas",
         "1.0",
         "0.0",
         "3.0",
         "0.0",
         "4.0",
         "Changing location when in need of internet, Relying on friends for internet",
         "Yes",
         "Yes",
         "Maybe",
         "Reliable internet service "
        ],
        [
         "40",
         "2025-02-13 09:01:50",
         "Male",
         "400L",
         "Faculty of Ground and Communications Engineering",
         "School Hostel",
         "Phone",
         "Movie & TV downloads, Socials, Messaging, Productivity/Work",
         "5 - 8 hours",
         "Evening",
         "GLO, 9mobile, AFIT CICT",
         "Internet speed",
         "3000 - 5000 Naira",
         "10 - 20 GB",
         "Very Dissatisfied",
         "Frequently",
         "Slow internet, No coverage in certain areas, Internet connection is completely unavailable",
         "0.0",
         "0.0",
         "3.0",
         "2.0",
         "3.0",
         "Using multiple providers, Changing location when in need of internet, Relying on friends for internet",
         "Yes",
         "Yes",
         "Maybe",
         "MORE NETWORK MASTS/CELL TOWERS PLEASE"
        ],
        [
         "41",
         "2025-02-13 09:04:04",
         "Male",
         "400L",
         "Faculty of Ground and Communications Engineering",
         "Commute within Kaduna",
         "Phone",
         "Socials, Messaging, Productivity/Work",
         "Less than 1 hour",
         "After Dark (12am - 5am)",
         "MTN, Airtel, AFIT CICT",
         "Reliability",
         "5000 - 8000 Naira",
         "20 - 30 GB",
         "Very Dissatisfied",
         "Always",
         "Slow internet, No coverage in certain areas",
         "1.0",
         "3.0",
         "0.0",
         "0.0",
         "4.0",
         "Using CICT",
         "No",
         "No",
         "Maybe",
         "Been in the school since 2021, but network has never been better. Something needs to be done bout this "
        ],
        [
         "42",
         "2025-02-13 09:05:07",
         "Prefer not to say",
         "400L",
         "Faculty of Air Engineering",
         "School Hostel",
         "Phone",
         "Movie & TV downloads, Socials, Productivity/Work",
         "3 -5 hours",
         "Evening",
         "Airtel",
         "Data Plans",
         "5000 - 8000 Naira",
         "30 - 40 GB",
         "Dissatisfied",
         "Frequently",
         "Slow internet, No coverage in certain areas, Internet connection is completely unavailable",
         "3.0",
         "4.0",
         "1.0",
         "0.0",
         "0.0",
         "Using multiple providers, Changing location when in need of internet",
         "No",
         "Yes",
         "No",
         "Leaving afit"
        ],
        [
         "43",
         "2025-02-13 09:10:23",
         "Male",
         "300L",
         "Faculty of Air Engineering",
         "School Hostel",
         "Phone",
         "Audio streaming or downloads, Readable content,",
         "1 - 3 hours",
         "Night",
         "Airtel",
         "Data Plans",
         "1000 - 3000 Naira",
         "2 - 10 GB",
         "Dissatisfied",
         "Frequently",
         "Slow internet",
         "0.0",
         "2.0",
         "0.0",
         "0.0",
         "3.0",
         "Changing location when in need of internet",
         "Yes",
         "No",
         "Maybe",
         "None"
        ],
        [
         "44",
         "2025-02-13 09:13:49",
         "Male",
         "100L",
         "Faculty of Computing",
         "School Hostel",
         "Phone",
         "Gaming, Socials, Messaging, Productivity/Work, Readable content",
         "1 - 3 hours",
         "Afternoon",
         "MTN, Airtel, GLO",
         "Reliability, Internet speed",
         "8000 - 15000 Naira",
         "30 - 40 GB",
         "Dissatisfied",
         "Occasionally",
         "Slow internet, Frequent disconnection, Difficulty using some apps or services, No coverage in certain areas, Internet connection is completely unavailable",
         "3.0",
         "3.0",
         "3.0",
         "3.0",
         "1.0",
         "Using multiple providers, Changing location when in need of internet, Relying on friends for internet",
         "Yes",
         "Yes",
         "Maybe",
         "Stable Power Suply and Connectivity "
        ],
        [
         "45",
         "2025-02-13 09:15:14",
         "Male",
         "300L",
         "Faculty of Ground and Communications Engineering",
         "Barkallahu",
         "Phone",
         "Messaging",
         "5 - 8 hours",
         "Afternoon",
         "MTN, AFIT CICT",
         "Internet speed",
         "8000 - 15000 Naira",
         "30 - 40 GB",
         "Dissatisfied",
         "Frequently",
         "Slow internet",
         "3.0",
         "0.0",
         "0.0",
         "0.0",
         "3.0",
         "Changing location when in need of internet, Relying on friends for internet",
         "Yes",
         "Yes",
         "Yes",
         "None"
        ],
        [
         "46",
         "2025-02-13 09:18:53",
         "Male",
         "Graduate",
         "Faculty of Science",
         "Kawo",
         "Laptop",
         "Socials, Productivity/Work",
         "1 - 3 hours",
         "Afternoon",
         "MTN",
         "Reliability",
         "3000 - 5000 Naira",
         "20 - 30 GB",
         "Satisfied",
         "Frequently",
         "Difficulty using some apps or services",
         "2.0",
         "2.0",
         "2.0",
         "2.0",
         "2.0",
         "Using multiple providers",
         "Yes",
         "Yes",
         "Yes",
         "None"
        ],
        [
         "47",
         "2025-02-13 09:19:14",
         "Male",
         "100L",
         "Faculty of Science",
         "School Hostel",
         "Laptop",
         "Video Streaming, Socials, Audio streaming or downloads, Productivity/Work, Readable content",
         "1 - 3 hours",
         "Night",
         "Airtel",
         "Internet speed",
         "8000 - 15000 Naira",
         "30 - 40 GB",
         "Very Dissatisfied",
         "Always",
         "Slow internet",
         "2.0",
         "4.0",
         "0.0",
         "1.0",
         "1.0",
         "Using multiple providers, Relying on friends for internet",
         "No",
         "Yes",
         "Maybe",
         "make the internet speed faster"
        ],
        [
         "48",
         "2025-02-13 09:20:06",
         "Male",
         "400L",
         "Faculty of Ground and Communications Engineering",
         "Barkallahu",
         "Phone",
         "Socials, Productivity/Work",
         "1 - 3 hours",
         "Afternoon",
         "Airtel",
         "Data Plans",
         "1000 - 3000 Naira",
         "10 - 20 GB",
         "Satisfied",
         "Occasionally",
         "No coverage in certain areas",
         "0.0",
         "4.0",
         "0.0",
         "0.0",
         "0.0",
         "Changing location when in need of internet",
         "Yes",
         "Yes",
         "Maybe",
         "None"
        ],
        [
         "49",
         "2025-02-13 09:33:16",
         "Male",
         "500L",
         "Faculty of Air Engineering",
         "Barkallahu",
         "Phone",
         "Messaging",
         "8 hours plus",
         "Afternoon",
         "Airtel, GLO, AFIT CICT",
         "Reliability, Internet speed, Data Plans",
         "8000 - 15000 Naira",
         "30 - 40 GB",
         "Dissatisfied",
         "Frequently",
         "Slow internet, Frequent disconnection, Difficulty using some apps or services, No coverage in certain areas, Internet connection is completely unavailable",
         "0.0",
         "2.0",
         "2.0",
         "0.0",
         "3.0",
         "Using multiple providers, Changing location when in need of internet, Relying on friends for internet",
         "No",
         "No",
         "Maybe",
         "None"
        ]
       ],
       "shape": {
        "columns": 26,
        "rows": 327
       }
      },
      "text/html": [
       "<div>\n",
       "<style scoped>\n",
       "    .dataframe tbody tr th:only-of-type {\n",
       "        vertical-align: middle;\n",
       "    }\n",
       "\n",
       "    .dataframe tbody tr th {\n",
       "        vertical-align: top;\n",
       "    }\n",
       "\n",
       "    .dataframe thead th {\n",
       "        text-align: right;\n",
       "    }\n",
       "</style>\n",
       "<table border=\"1\" class=\"dataframe\">\n",
       "  <thead>\n",
       "    <tr style=\"text-align: right;\">\n",
       "      <th></th>\n",
       "      <th>timestamp</th>\n",
       "      <th>gender</th>\n",
       "      <th>school_year</th>\n",
       "      <th>program_faculty</th>\n",
       "      <th>residence</th>\n",
       "      <th>most_used_device</th>\n",
       "      <th>most_time_spent_on</th>\n",
       "      <th>daily_online_time_on_campus</th>\n",
       "      <th>most_active_time_on_campus</th>\n",
       "      <th>primary_internet_providers</th>\n",
       "      <th>...</th>\n",
       "      <th>mtn_experience_rating</th>\n",
       "      <th>airtel_experience_rating</th>\n",
       "      <th>glo_experience_rating</th>\n",
       "      <th>nine_mobile_experience_rating</th>\n",
       "      <th>afit_cict_experience_rating</th>\n",
       "      <th>poor_service_coping_methods</th>\n",
       "      <th>academic_impact_of_poor_internet</th>\n",
       "      <th>financial_impact_of_poor_internet</th>\n",
       "      <th>planning_to_switch_provider</th>\n",
       "      <th>suggestions_for_improvement</th>\n",
       "    </tr>\n",
       "  </thead>\n",
       "  <tbody>\n",
       "    <tr>\n",
       "      <th>0</th>\n",
       "      <td>2025-02-13 01:39:04</td>\n",
       "      <td>Male</td>\n",
       "      <td>400L</td>\n",
       "      <td>Faculty of Ground and Communications Engineering</td>\n",
       "      <td>School Hostel</td>\n",
       "      <td>Laptop</td>\n",
       "      <td>Video Streaming, Socials, Messaging</td>\n",
       "      <td>5 - 8 hours</td>\n",
       "      <td>After Dark (12am - 5am)</td>\n",
       "      <td>Airtel, AFIT CICT</td>\n",
       "      <td>...</td>\n",
       "      <td>2.0</td>\n",
       "      <td>3.0</td>\n",
       "      <td>0.0</td>\n",
       "      <td>0.0</td>\n",
       "      <td>3.0</td>\n",
       "      <td>Using multiple providers, Changing location wh...</td>\n",
       "      <td>Yes</td>\n",
       "      <td>Yes</td>\n",
       "      <td>Maybe</td>\n",
       "      <td>None</td>\n",
       "    </tr>\n",
       "    <tr>\n",
       "      <th>1</th>\n",
       "      <td>2025-02-13 01:44:37</td>\n",
       "      <td>Male</td>\n",
       "      <td>400L</td>\n",
       "      <td>Faculty of Air Engineering</td>\n",
       "      <td>Barkallahu</td>\n",
       "      <td>Phone</td>\n",
       "      <td>Socials</td>\n",
       "      <td>3 -5 hours</td>\n",
       "      <td>Afternoon</td>\n",
       "      <td>MTN, Airtel, GLO</td>\n",
       "      <td>...</td>\n",
       "      <td>1.0</td>\n",
       "      <td>1.0</td>\n",
       "      <td>3.0</td>\n",
       "      <td>0.0</td>\n",
       "      <td>2.0</td>\n",
       "      <td>Using multiple providers</td>\n",
       "      <td>Yes</td>\n",
       "      <td>No</td>\n",
       "      <td>Yes</td>\n",
       "      <td>None</td>\n",
       "    </tr>\n",
       "    <tr>\n",
       "      <th>2</th>\n",
       "      <td>2025-02-13 01:52:48</td>\n",
       "      <td>Male</td>\n",
       "      <td>400L</td>\n",
       "      <td>Faculty of Ground and Communications Engineering</td>\n",
       "      <td>Barkallahu</td>\n",
       "      <td>Phone</td>\n",
       "      <td>Video Streaming, Socials, Productivity/Work</td>\n",
       "      <td>Less than 1 hour</td>\n",
       "      <td>Evening</td>\n",
       "      <td>MTN</td>\n",
       "      <td>...</td>\n",
       "      <td>2.0</td>\n",
       "      <td>0.0</td>\n",
       "      <td>0.0</td>\n",
       "      <td>0.0</td>\n",
       "      <td>2.0</td>\n",
       "      <td>Changing location when in need of internet, Re...</td>\n",
       "      <td>No</td>\n",
       "      <td>No</td>\n",
       "      <td>No</td>\n",
       "      <td>None</td>\n",
       "    </tr>\n",
       "    <tr>\n",
       "      <th>3</th>\n",
       "      <td>2025-02-13 01:58:11</td>\n",
       "      <td>Male</td>\n",
       "      <td>400L</td>\n",
       "      <td>Faculty of Ground and Communications Engineering</td>\n",
       "      <td>Barkallahu</td>\n",
       "      <td>Phone</td>\n",
       "      <td>Socials, Messaging, Productivity/Work</td>\n",
       "      <td>Less than 1 hour</td>\n",
       "      <td>Afternoon</td>\n",
       "      <td>MTN, Airtel, GLO</td>\n",
       "      <td>...</td>\n",
       "      <td>1.0</td>\n",
       "      <td>2.0</td>\n",
       "      <td>3.0</td>\n",
       "      <td>0.0</td>\n",
       "      <td>2.0</td>\n",
       "      <td>Using multiple providers, Changing location wh...</td>\n",
       "      <td>No</td>\n",
       "      <td>Yes</td>\n",
       "      <td>Maybe</td>\n",
       "      <td>Disable the \"scramblers\" if there are or find ...</td>\n",
       "    </tr>\n",
       "    <tr>\n",
       "      <th>4</th>\n",
       "      <td>2025-02-13 02:01:31</td>\n",
       "      <td>Male</td>\n",
       "      <td>400L</td>\n",
       "      <td>Faculty of Ground and Communications Engineering</td>\n",
       "      <td>Barkallahu</td>\n",
       "      <td>Phone</td>\n",
       "      <td>Video Streaming, Messaging, Productivity/Work</td>\n",
       "      <td>3 -5 hours</td>\n",
       "      <td>Afternoon</td>\n",
       "      <td>MTN, Airtel, AFIT CICT</td>\n",
       "      <td>...</td>\n",
       "      <td>1.0</td>\n",
       "      <td>1.0</td>\n",
       "      <td>0.0</td>\n",
       "      <td>0.0</td>\n",
       "      <td>1.0</td>\n",
       "      <td>Using multiple providers</td>\n",
       "      <td>Yes</td>\n",
       "      <td>Yes</td>\n",
       "      <td>No</td>\n",
       "      <td>Better WiFi and service provider connectivity</td>\n",
       "    </tr>\n",
       "    <tr>\n",
       "      <th>...</th>\n",
       "      <td>...</td>\n",
       "      <td>...</td>\n",
       "      <td>...</td>\n",
       "      <td>...</td>\n",
       "      <td>...</td>\n",
       "      <td>...</td>\n",
       "      <td>...</td>\n",
       "      <td>...</td>\n",
       "      <td>...</td>\n",
       "      <td>...</td>\n",
       "      <td>...</td>\n",
       "      <td>...</td>\n",
       "      <td>...</td>\n",
       "      <td>...</td>\n",
       "      <td>...</td>\n",
       "      <td>...</td>\n",
       "      <td>...</td>\n",
       "      <td>...</td>\n",
       "      <td>...</td>\n",
       "      <td>...</td>\n",
       "      <td>...</td>\n",
       "    </tr>\n",
       "    <tr>\n",
       "      <th>322</th>\n",
       "      <td>2025-03-04 23:27:34</td>\n",
       "      <td>Female</td>\n",
       "      <td>400L</td>\n",
       "      <td>Faculty of Science</td>\n",
       "      <td>School Hostel</td>\n",
       "      <td>Phone</td>\n",
       "      <td>Socials</td>\n",
       "      <td>1 - 3 hours</td>\n",
       "      <td>Night</td>\n",
       "      <td>MTN, Airtel</td>\n",
       "      <td>...</td>\n",
       "      <td>2.0</td>\n",
       "      <td>3.0</td>\n",
       "      <td>0.0</td>\n",
       "      <td>0.0</td>\n",
       "      <td>2.0</td>\n",
       "      <td>Changing location when in need of internet</td>\n",
       "      <td>No</td>\n",
       "      <td>No</td>\n",
       "      <td>Maybe</td>\n",
       "      <td>None</td>\n",
       "    </tr>\n",
       "    <tr>\n",
       "      <th>323</th>\n",
       "      <td>2025-03-05 12:27:37</td>\n",
       "      <td>Male</td>\n",
       "      <td>100L</td>\n",
       "      <td>Faculty of Ground and Communications Engineering</td>\n",
       "      <td>School Hostel</td>\n",
       "      <td>Phone</td>\n",
       "      <td>Socials, Messaging, Productivity/Work</td>\n",
       "      <td>3 -5 hours</td>\n",
       "      <td>Afternoon</td>\n",
       "      <td>MTN, Airtel</td>\n",
       "      <td>...</td>\n",
       "      <td>1.0</td>\n",
       "      <td>1.0</td>\n",
       "      <td>0.0</td>\n",
       "      <td>0.0</td>\n",
       "      <td>0.0</td>\n",
       "      <td>Using multiple providers, Changing location wh...</td>\n",
       "      <td>No</td>\n",
       "      <td>Yes</td>\n",
       "      <td>No</td>\n",
       "      <td>None</td>\n",
       "    </tr>\n",
       "    <tr>\n",
       "      <th>324</th>\n",
       "      <td>2025-03-09 23:21:48</td>\n",
       "      <td>Male</td>\n",
       "      <td>400L</td>\n",
       "      <td>Faculty of Science</td>\n",
       "      <td>School Hostel</td>\n",
       "      <td>Phone</td>\n",
       "      <td>Movie &amp; TV downloads, Messaging, Readable content</td>\n",
       "      <td>1 - 3 hours</td>\n",
       "      <td>Afternoon</td>\n",
       "      <td>MTN, GLO, AFIT CICT</td>\n",
       "      <td>...</td>\n",
       "      <td>1.0</td>\n",
       "      <td>2.0</td>\n",
       "      <td>2.0</td>\n",
       "      <td>3.0</td>\n",
       "      <td>2.0</td>\n",
       "      <td>Changing location when in need of internet, Re...</td>\n",
       "      <td>Yes</td>\n",
       "      <td>No</td>\n",
       "      <td>Yes</td>\n",
       "      <td>None</td>\n",
       "    </tr>\n",
       "    <tr>\n",
       "      <th>325</th>\n",
       "      <td>2025-03-15 11:36:58</td>\n",
       "      <td>Male</td>\n",
       "      <td>300L</td>\n",
       "      <td>Faculty of Computing</td>\n",
       "      <td>School Hostel</td>\n",
       "      <td>Phone</td>\n",
       "      <td>Messaging, Productivity/Work, Readable content</td>\n",
       "      <td>3 -5 hours</td>\n",
       "      <td>After Dark (12am - 5am)</td>\n",
       "      <td>MTN, Airtel, AFIT CICT</td>\n",
       "      <td>...</td>\n",
       "      <td>3.0</td>\n",
       "      <td>3.0</td>\n",
       "      <td>0.0</td>\n",
       "      <td>0.0</td>\n",
       "      <td>4.0</td>\n",
       "      <td>Using multiple providers, Staying awake midnig...</td>\n",
       "      <td>Yes</td>\n",
       "      <td>Yes</td>\n",
       "      <td>No</td>\n",
       "      <td>AFIT should provide more Wifi with higher freq...</td>\n",
       "    </tr>\n",
       "    <tr>\n",
       "      <th>326</th>\n",
       "      <td>2025-03-21 12:18:24</td>\n",
       "      <td>Female</td>\n",
       "      <td>400L</td>\n",
       "      <td>Faculty of Computing</td>\n",
       "      <td>School Hostel</td>\n",
       "      <td>Phone</td>\n",
       "      <td>Socials, Messaging, Productivity/Work</td>\n",
       "      <td>8 hours plus</td>\n",
       "      <td>Evening</td>\n",
       "      <td>MTN, Airtel</td>\n",
       "      <td>...</td>\n",
       "      <td>1.0</td>\n",
       "      <td>2.0</td>\n",
       "      <td>0.0</td>\n",
       "      <td>0.0</td>\n",
       "      <td>0.0</td>\n",
       "      <td>Changing location when in need of internet</td>\n",
       "      <td>Yes</td>\n",
       "      <td>Yes</td>\n",
       "      <td>Maybe</td>\n",
       "      <td>Just fix the issue…that’s all</td>\n",
       "    </tr>\n",
       "  </tbody>\n",
       "</table>\n",
       "<p>327 rows × 26 columns</p>\n",
       "</div>"
      ],
      "text/plain": [
       "              timestamp  gender school_year  \\\n",
       "0   2025-02-13 01:39:04    Male        400L   \n",
       "1   2025-02-13 01:44:37    Male        400L   \n",
       "2   2025-02-13 01:52:48    Male        400L   \n",
       "3   2025-02-13 01:58:11    Male        400L   \n",
       "4   2025-02-13 02:01:31    Male        400L   \n",
       "..                  ...     ...         ...   \n",
       "322 2025-03-04 23:27:34  Female        400L   \n",
       "323 2025-03-05 12:27:37    Male        100L   \n",
       "324 2025-03-09 23:21:48    Male        400L   \n",
       "325 2025-03-15 11:36:58    Male        300L   \n",
       "326 2025-03-21 12:18:24  Female        400L   \n",
       "\n",
       "                                      program_faculty      residence  \\\n",
       "0    Faculty of Ground and Communications Engineering  School Hostel   \n",
       "1                          Faculty of Air Engineering     Barkallahu   \n",
       "2    Faculty of Ground and Communications Engineering     Barkallahu   \n",
       "3    Faculty of Ground and Communications Engineering     Barkallahu   \n",
       "4    Faculty of Ground and Communications Engineering     Barkallahu   \n",
       "..                                                ...            ...   \n",
       "322                                Faculty of Science  School Hostel   \n",
       "323  Faculty of Ground and Communications Engineering  School Hostel   \n",
       "324                                Faculty of Science  School Hostel   \n",
       "325                              Faculty of Computing  School Hostel   \n",
       "326                              Faculty of Computing  School Hostel   \n",
       "\n",
       "    most_used_device                                 most_time_spent_on  \\\n",
       "0             Laptop                Video Streaming, Socials, Messaging   \n",
       "1              Phone                                            Socials   \n",
       "2              Phone        Video Streaming, Socials, Productivity/Work   \n",
       "3              Phone              Socials, Messaging, Productivity/Work   \n",
       "4              Phone      Video Streaming, Messaging, Productivity/Work   \n",
       "..               ...                                                ...   \n",
       "322            Phone                                            Socials   \n",
       "323            Phone              Socials, Messaging, Productivity/Work   \n",
       "324            Phone  Movie & TV downloads, Messaging, Readable content   \n",
       "325            Phone     Messaging, Productivity/Work, Readable content   \n",
       "326            Phone              Socials, Messaging, Productivity/Work   \n",
       "\n",
       "    daily_online_time_on_campus most_active_time_on_campus  \\\n",
       "0                   5 - 8 hours    After Dark (12am - 5am)   \n",
       "1                    3 -5 hours                  Afternoon   \n",
       "2              Less than 1 hour                    Evening   \n",
       "3              Less than 1 hour                  Afternoon   \n",
       "4                    3 -5 hours                  Afternoon   \n",
       "..                          ...                        ...   \n",
       "322                 1 - 3 hours                      Night   \n",
       "323                  3 -5 hours                  Afternoon   \n",
       "324                 1 - 3 hours                  Afternoon   \n",
       "325                  3 -5 hours    After Dark (12am - 5am)   \n",
       "326                8 hours plus                    Evening   \n",
       "\n",
       "    primary_internet_providers  ... mtn_experience_rating  \\\n",
       "0            Airtel, AFIT CICT  ...                   2.0   \n",
       "1             MTN, Airtel, GLO  ...                   1.0   \n",
       "2                          MTN  ...                   2.0   \n",
       "3             MTN, Airtel, GLO  ...                   1.0   \n",
       "4       MTN, Airtel, AFIT CICT  ...                   1.0   \n",
       "..                         ...  ...                   ...   \n",
       "322                MTN, Airtel  ...                   2.0   \n",
       "323                MTN, Airtel  ...                   1.0   \n",
       "324        MTN, GLO, AFIT CICT  ...                   1.0   \n",
       "325     MTN, Airtel, AFIT CICT  ...                   3.0   \n",
       "326                MTN, Airtel  ...                   1.0   \n",
       "\n",
       "    airtel_experience_rating glo_experience_rating  \\\n",
       "0                        3.0                   0.0   \n",
       "1                        1.0                   3.0   \n",
       "2                        0.0                   0.0   \n",
       "3                        2.0                   3.0   \n",
       "4                        1.0                   0.0   \n",
       "..                       ...                   ...   \n",
       "322                      3.0                   0.0   \n",
       "323                      1.0                   0.0   \n",
       "324                      2.0                   2.0   \n",
       "325                      3.0                   0.0   \n",
       "326                      2.0                   0.0   \n",
       "\n",
       "    nine_mobile_experience_rating afit_cict_experience_rating  \\\n",
       "0                             0.0                         3.0   \n",
       "1                             0.0                         2.0   \n",
       "2                             0.0                         2.0   \n",
       "3                             0.0                         2.0   \n",
       "4                             0.0                         1.0   \n",
       "..                            ...                         ...   \n",
       "322                           0.0                         2.0   \n",
       "323                           0.0                         0.0   \n",
       "324                           3.0                         2.0   \n",
       "325                           0.0                         4.0   \n",
       "326                           0.0                         0.0   \n",
       "\n",
       "                           poor_service_coping_methods  \\\n",
       "0    Using multiple providers, Changing location wh...   \n",
       "1                             Using multiple providers   \n",
       "2    Changing location when in need of internet, Re...   \n",
       "3    Using multiple providers, Changing location wh...   \n",
       "4                             Using multiple providers   \n",
       "..                                                 ...   \n",
       "322         Changing location when in need of internet   \n",
       "323  Using multiple providers, Changing location wh...   \n",
       "324  Changing location when in need of internet, Re...   \n",
       "325  Using multiple providers, Staying awake midnig...   \n",
       "326         Changing location when in need of internet   \n",
       "\n",
       "     academic_impact_of_poor_internet  financial_impact_of_poor_internet  \\\n",
       "0                                 Yes                                Yes   \n",
       "1                                 Yes                                 No   \n",
       "2                                  No                                 No   \n",
       "3                                  No                                Yes   \n",
       "4                                 Yes                                Yes   \n",
       "..                                ...                                ...   \n",
       "322                                No                                 No   \n",
       "323                                No                                Yes   \n",
       "324                               Yes                                 No   \n",
       "325                               Yes                                Yes   \n",
       "326                               Yes                                Yes   \n",
       "\n",
       "     planning_to_switch_provider  \\\n",
       "0                          Maybe   \n",
       "1                            Yes   \n",
       "2                             No   \n",
       "3                          Maybe   \n",
       "4                             No   \n",
       "..                           ...   \n",
       "322                        Maybe   \n",
       "323                           No   \n",
       "324                          Yes   \n",
       "325                           No   \n",
       "326                        Maybe   \n",
       "\n",
       "                           suggestions_for_improvement  \n",
       "0                                                 None  \n",
       "1                                                 None  \n",
       "2                                                 None  \n",
       "3    Disable the \"scramblers\" if there are or find ...  \n",
       "4       Better WiFi and service provider connectivity   \n",
       "..                                                 ...  \n",
       "322                                               None  \n",
       "323                                               None  \n",
       "324                                               None  \n",
       "325  AFIT should provide more Wifi with higher freq...  \n",
       "326                      Just fix the issue…that’s all  \n",
       "\n",
       "[327 rows x 26 columns]"
      ]
     },
     "execution_count": 3,
     "metadata": {},
     "output_type": "execute_result"
    }
   ],
   "source": [
    "data[\"timestamp\"] = pd.to_datetime(data[\"timestamp\"])\n",
    "\n",
    "def clean_data(data):\n",
    "    # Replace missing values with \"Graduate\" in column: 'school_year'\n",
    "    data = data.fillna({'school_year': \"Graduate\"})\n",
    "    # Replace missing values with \"No Faculty\" in column: 'program_faculty'\n",
    "    data = data.fillna({'program_faculty': \"No Faculty\"})\n",
    "    # Remove leading and trailing whitespace in column: 'most_used_device'\n",
    "    data['most_used_device'] = data['most_used_device'].str.strip()\n",
    "    # Replace all instances of \"phone and laptop\" with \"Phone\" in column: 'most_used_device'\n",
    "    data.loc[data['most_used_device'].str.lower() == \"phone and laptop\".lower(), 'most_used_device'] = \"Phone\"\n",
    "    # Remove leading and trailing whitespace in column: 'most_time_spent_on'\n",
    "    data['most_time_spent_on'] = data['most_time_spent_on'].str.strip()\n",
    "    # Replace missing values with \"None\" in column: 'most_time_spent_on'\n",
    "    data = data.fillna({'most_time_spent_on': \"None\"})\n",
    "    # Replace missing values with \"None\" in column: 'suggestions_for_improvement'\n",
    "    data = data.fillna({'suggestions_for_improvement': \"None\"})\n",
    "    return data\n",
    "\n",
    "data = clean_data(data.copy())\n",
    "data"
   ]
  },
  {
   "cell_type": "markdown",
   "metadata": {},
   "source": [
    "## Exploratory Data Analysis"
   ]
  },
  {
   "cell_type": "code",
   "execution_count": 4,
   "metadata": {},
   "outputs": [
    {
     "data": {
      "text/plain": [
       "Index(['timestamp', 'gender', 'school_year', 'program_faculty', 'residence',\n",
       "       'most_used_device', 'most_time_spent_on', 'daily_online_time_on_campus',\n",
       "       'most_active_time_on_campus', 'primary_internet_providers',\n",
       "       'internet_provider_choice_factors', 'monthly_internet_spend',\n",
       "       'monthly_data_usage_gb', 'campus_internet_satisfaction',\n",
       "       'internet_issues_frequency', 'main_internet_issues',\n",
       "       'mtn_experience_rating', 'airtel_experience_rating',\n",
       "       'glo_experience_rating', 'nine_mobile_experience_rating',\n",
       "       'afit_cict_experience_rating', 'poor_service_coping_methods',\n",
       "       'academic_impact_of_poor_internet', 'financial_impact_of_poor_internet',\n",
       "       'planning_to_switch_provider', 'suggestions_for_improvement'],\n",
       "      dtype='object')"
      ]
     },
     "execution_count": 4,
     "metadata": {},
     "output_type": "execute_result"
    }
   ],
   "source": [
    "data.columns"
   ]
  },
  {
   "cell_type": "markdown",
   "metadata": {},
   "source": [
    "#### **Focus Points**\n",
    "1. Internet Providers\n",
    "2. Location\n",
    "3. Time of Day\n",
    "4. Activity\n",
    "\n"
   ]
  },
  {
   "cell_type": "markdown",
   "metadata": {},
   "source": [
    "#### **Internet Providers**\n",
    "\n",
    "First let's understand which services are providing the service in the first place, and see how satisfied their users are."
   ]
  },
  {
   "cell_type": "code",
   "execution_count": 5,
   "metadata": {},
   "outputs": [],
   "source": [
    "provider_user_count = data[\"primary_internet_providers\"].str.split(', ').explode().value_counts()\n",
    "provider_user_count_sum = provider_user_count.sum()"
   ]
  },
  {
   "cell_type": "code",
   "execution_count": 6,
   "metadata": {},
   "outputs": [
    {
     "data": {
      "image/png": "[encoded data removed]",
      "text/plain": [
       "<Figure size 1200x800 with 1 Axes>"
      ]
     },
     "metadata": {},
     "output_type": "display_data"
    }
   ],
   "source": [
    "plt.figure(figsize=(12, 8))\n",
    "sns.barplot(x=provider_user_count.index, y=provider_user_count.values, palette=\"viridis\", hue=provider_user_count.values, legend=False)\n",
    "plt.title(\"Main providers used by students\")\n",
    "plt.xlabel(\"Providers\")\n",
    "plt.ylabel(\"No. of Users\")\n",
    "plt.show()"
   ]
  },
  {
   "cell_type": "markdown",
   "metadata": {},
   "source": [
    "This shows that most students are MTN users, with Airtel following very closely.\n",
    "The schools own internet service comes in at third showing a good amount of students depend on it for internet."
   ]
  },
  {
   "cell_type": "code",
   "execution_count": 7,
   "metadata": {},
   "outputs": [
    {
     "data": {
      "text/plain": [
       "{'Airtel': 1.85,\n",
       " 'MTN': 1.77,\n",
       " 'GLO': 2.05,\n",
       " 'AFIT CICT': 2.03,\n",
       " 'Smile': 2.0,\n",
       " '9mobile': 1.94,\n",
       " 'SpaceX Starlink': 3.0}"
      ]
     },
     "execution_count": 7,
     "metadata": {},
     "output_type": "execute_result"
    }
   ],
   "source": [
    "satisfaction_mapping = {\n",
    "    \"Very Dissatisfied\": 1,\n",
    "    \"Dissatisfied\": 2,\n",
    "    \"Neutral\": 3,\n",
    "    \"Satisfied\": 4,\n",
    "    \"Very Satisfied\": 5\n",
    "}\n",
    "\n",
    "data[\"satisfaction_numeric\"] = data[\"campus_internet_satisfaction\"].map(satisfaction_mapping)\n",
    "\n",
    "all_providers = [\"Airtel\", \"MTN\", \"GLO\", \"AFIT CICT\", \"Smile\", \"9mobile\", \"SpaceX Starlink\"]\n",
    "\n",
    "provider_satisfaction = {provider: [] for provider in all_providers}\n",
    "\n",
    "for i, row in data.iterrows():\n",
    "    providers = [p.strip() for p in row[\"primary_internet_providers\"].split(\",\")]\n",
    "    satisfaction_score = row[\"satisfaction_numeric\"]\n",
    "    for provider in providers:\n",
    "        if provider in provider_satisfaction:\n",
    "            provider_satisfaction[provider].append(satisfaction_score)\n",
    "\n",
    "average_provider_satisfaction = {provider: round(np.mean(scores), 2) if scores else None for provider, scores in provider_satisfaction.items()}\n",
    "average_provider_satisfaction"
   ]
  },
  {
   "cell_type": "code",
   "execution_count": 8,
   "metadata": {},
   "outputs": [
    {
     "data": {
      "text/plain": [
       "[5, 1, 3]"
      ]
     },
     "execution_count": 8,
     "metadata": {},
     "output_type": "execute_result"
    }
   ],
   "source": [
    "provider_satisfaction[\"SpaceX Starlink\"]"
   ]
  },
  {
   "cell_type": "code",
   "execution_count": 9,
   "metadata": {},
   "outputs": [
    {
     "data": {
      "text/plain": [
       "[('Airtel', 1.85),\n",
       " ('MTN', 1.77),\n",
       " ('GLO', 2.05),\n",
       " ('AFIT CICT', 2.03),\n",
       " ('Smile', 2.0),\n",
       " ('9mobile', 1.94),\n",
       " ('SpaceX Starlink', 3.0)]"
      ]
     },
     "execution_count": 9,
     "metadata": {},
     "output_type": "execute_result"
    }
   ],
   "source": [
    "list(average_provider_satisfaction.items())"
   ]
  },
  {
   "cell_type": "code",
   "execution_count": 10,
   "metadata": {},
   "outputs": [
    {
     "data": {
      "image/png": "[encoded data removed]",
      "text/plain": [
       "<Figure size 1000x600 with 1 Axes>"
      ]
     },
     "metadata": {},
     "output_type": "display_data"
    }
   ],
   "source": [
    "average_satisfaction_df = pd.DataFrame(list(average_provider_satisfaction.items()), \n",
    "                                       columns=[\"Provider\", \"Average Satisfaction\"]).dropna()\n",
    "\n",
    "average_satisfaction_df = average_satisfaction_df.sort_values(by=\"Average Satisfaction\", ascending=False)\n",
    "\n",
    "plt.figure(figsize=(10, 6))\n",
    "sns.barplot(x=average_satisfaction_df[\"Provider\"], y=average_satisfaction_df[\"Average Satisfaction\"], palette=\"coolwarm\", hue=average_satisfaction_df[\"Average Satisfaction\"])\n",
    "plt.xlabel(\"Internet Providers\")\n",
    "plt.ylabel(\"Average Satisfaction\")\n",
    "plt.title(\"Average Internet Satisfaction by Provider\")\n",
    "plt.legend(title=\"Satisfaction Level\")\n",
    "plt.show()"
   ]
  },
  {
   "cell_type": "markdown",
   "metadata": {},
   "source": [
    "Starlink users seem to have the highest internet satifaction, though there are no students bringing their starlink units to use on campus, GLO and AFIT CICT (which is the schools own internet service) have the most satisfied users.\n",
    "Oddly the two most used providers by students seem to have the lowest average satisfaction with MTN being the least."
   ]
  },
  {
   "cell_type": "markdown",
   "metadata": {},
   "source": [
    "Now lets see the percentage of students that are planning on switching providers"
   ]
  },
  {
   "cell_type": "code",
   "execution_count": 11,
   "metadata": {},
   "outputs": [
    {
     "data": {
      "image/png": "[encoded data removed]",
      "text/plain": [
       "<Figure size 800x700 with 1 Axes>"
      ]
     },
     "metadata": {},
     "output_type": "display_data"
    }
   ],
   "source": [
    "plan_to_switch_provider = data[\"planning_to_switch_provider\"].value_counts()\n",
    "\n",
    "plt.figure(figsize=(8, 7))\n",
    "plt.pie(plan_to_switch_provider, labels=plan_to_switch_provider.index, autopct='%1.1f%%', startangle=140, colors=sns.color_palette(\"pastel\"))\n",
    "plt.title('Distribution of Customer Plans for Switching Provider', fontsize=16, pad=20)\n",
    "plt.axis('equal')  # Equal aspect ratio ensures that pie is drawn as a circle.\n",
    "plt.show()"
   ]
  },
  {
   "cell_type": "markdown",
   "metadata": {},
   "source": [
    "The pie chart shows that 45% of the students that filled the survey are considering switching providers due to to dissatisfaction. And 23.5% of them already have this plan in motion."
   ]
  },
  {
   "cell_type": "markdown",
   "metadata": {},
   "source": [
    "Let's see exactly which providers will be affected the most by this."
   ]
  },
  {
   "cell_type": "code",
   "execution_count": 12,
   "metadata": {},
   "outputs": [
    {
     "name": "stdout",
     "output_type": "stream",
     "text": [
      "{'Airtel': ['Maybe', 'Yes', 'Maybe', 'No', 'Yes', 'No', 'Maybe', 'No', 'Maybe', 'Maybe', 'Maybe', 'Maybe', 'Yes', 'No', 'Yes', 'No', 'Maybe', 'Yes', 'Maybe', 'No', 'No', 'Maybe', 'Yes', 'Maybe', 'No', 'Maybe', 'Maybe', 'Maybe', 'Maybe', 'Maybe', 'No', 'Maybe', 'Yes', 'Maybe', 'No', 'Maybe', 'Maybe', 'No', 'No', 'No', 'No', 'Maybe', 'Maybe', 'No', 'No', 'Yes', 'No', 'Maybe', 'Maybe', 'Yes', 'Yes', 'Maybe', 'Maybe', 'Maybe', 'Yes', 'Yes', 'Maybe', 'Maybe', 'No', 'Maybe', 'Yes', 'Yes', 'Maybe', 'Maybe', 'No', 'No', 'No', 'No', 'Yes', 'Maybe', 'Maybe', 'Maybe', 'Yes', 'No', 'Maybe', 'Maybe', 'Maybe', 'Maybe', 'Maybe', 'Yes', 'Maybe', 'No', 'Maybe', 'Maybe', 'Yes', 'Maybe', 'Maybe', 'Maybe', 'Maybe', 'Yes', 'Maybe', 'Maybe', 'No', 'Maybe', 'No', 'Maybe', 'Yes', 'No', 'Maybe', 'Maybe', 'No', 'No', 'No', 'Yes', 'Yes', 'No', 'Maybe', 'Maybe', 'Maybe', 'Yes', 'No', 'Yes', 'No', 'Maybe', 'No', 'Maybe', 'Maybe', 'Maybe', 'Maybe', 'Yes', 'No', 'No', 'Maybe', 'Maybe', 'No', 'Maybe', 'No', 'No', 'No', 'Maybe', 'No', 'Maybe', 'No', 'Yes', 'Maybe', 'Maybe', 'No', 'No', 'Yes', 'No', 'Maybe', 'Maybe', 'No', 'Maybe', 'No', 'Maybe', 'No', 'No', 'No', 'Yes', 'Maybe', 'Maybe', 'Yes', 'Maybe', 'Maybe', 'Maybe', 'No', 'No', 'No', 'No', 'No', 'No', 'Yes', 'Maybe', 'No', 'Maybe', 'Yes', 'No', 'No', 'No', 'Yes', 'Maybe', 'Maybe', 'Yes', 'Yes', 'Yes', 'Yes', 'Maybe', 'Maybe', 'Maybe', 'Yes', 'Maybe', 'No', 'No', 'Maybe', 'Maybe', 'No', 'No', 'Maybe'], 'MTN': ['Yes', 'No', 'Maybe', 'No', 'No', 'Maybe', 'No', 'Maybe', 'Maybe', 'Yes', 'Yes', 'No', 'Maybe', 'Maybe', 'No', 'No', 'Yes', 'Maybe', 'No', 'Yes', 'Maybe', 'Yes', 'Maybe', 'Yes', 'No', 'Yes', 'Maybe', 'Maybe', 'Maybe', 'Yes', 'Yes', 'No', 'No', 'No', 'No', 'No', 'Yes', 'Maybe', 'No', 'Maybe', 'Maybe', 'No', 'No', 'Yes', 'Yes', 'No', 'Maybe', 'Maybe', 'No', 'Maybe', 'Maybe', 'No', 'Yes', 'Yes', 'Yes', 'Yes', 'Maybe', 'Maybe', 'Maybe', 'Yes', 'Maybe', 'Maybe', 'No', 'Yes', 'Maybe', 'Maybe', 'Maybe', 'Yes', 'No', 'Maybe', 'Yes', 'No', 'Yes', 'Maybe', 'Maybe', 'No', 'Yes', 'Yes', 'No', 'Yes', 'Maybe', 'Maybe', 'No', 'No', 'Maybe', 'Maybe', 'Maybe', 'Maybe', 'Maybe', 'Yes', 'Yes', 'Yes', 'Maybe', 'Maybe', 'Maybe', 'Maybe', 'No', 'Maybe', 'Maybe', 'Yes', 'Yes', 'No', 'Maybe', 'No', 'No', 'Maybe', 'Yes', 'Maybe', 'Yes', 'Maybe', 'Maybe', 'No', 'No', 'Maybe', 'Maybe', 'Maybe', 'Yes', 'No', 'Yes', 'Maybe', 'Maybe', 'Maybe', 'No', 'No', 'Maybe', 'Yes', 'No', 'Yes', 'Yes', 'Maybe', 'No', 'No', 'Maybe', 'Maybe', 'No', 'Maybe', 'No', 'Yes', 'No', 'No', 'Yes', 'No', 'Yes', 'Maybe', 'Yes', 'Yes', 'Maybe', 'Maybe', 'Maybe', 'Maybe', 'Maybe', 'Maybe', 'No', 'Yes', 'Yes', 'Yes', 'Maybe', 'No', 'Maybe', 'Maybe', 'Maybe', 'Yes', 'Maybe', 'Maybe', 'No', 'No', 'Maybe', 'Maybe', 'Maybe', 'Yes', 'Yes', 'Maybe', 'Yes', 'No', 'Maybe', 'Maybe', 'Maybe', 'No', 'Maybe', 'No', 'No', 'No', 'Yes', 'Maybe', 'Maybe', 'No', 'Maybe', 'No', 'Maybe', 'No', 'Maybe', 'Yes', 'No', 'Maybe', 'No', 'No', 'Yes', 'Yes', 'Yes', 'Yes', 'Maybe', 'Maybe', 'Maybe', 'Yes', 'Maybe', 'Yes', 'Maybe', 'Maybe', 'Maybe', 'No', 'Yes', 'No', 'Maybe'], 'GLO': ['Yes', 'Maybe', 'Yes', 'Maybe', 'Maybe', 'No', 'No', 'No', 'Maybe', 'No', 'Maybe', 'Yes', 'Maybe', 'Maybe', 'Maybe', 'Maybe', 'No', 'No', 'Maybe', 'Yes', 'Yes', 'Yes', 'Maybe', 'Yes', 'Maybe', 'Yes', 'Maybe', 'Maybe', 'Maybe', 'Maybe', 'Yes', 'Maybe', 'No', 'Maybe', 'No', 'No', 'No', 'Yes', 'Maybe', 'No', 'No', 'No', 'Maybe', 'Maybe', 'Yes', 'No', 'No', 'No', 'Maybe', 'No', 'Yes', 'No', 'Maybe', 'No', 'Maybe', 'Maybe', 'No', 'No', 'Yes', 'Maybe', 'Maybe', 'No', 'No', 'Yes', 'No', 'Maybe', 'Yes', 'No', 'No', 'Yes', 'No', 'Maybe', 'Maybe', 'Maybe', 'Yes'], 'AFIT CICT': ['Maybe', 'No', 'Maybe', 'Maybe', 'Yes', 'Maybe', 'No', 'Maybe', 'Maybe', 'Maybe', 'Maybe', 'Yes', 'Maybe', 'Maybe', 'Yes', 'Maybe', 'No', 'Yes', 'Maybe', 'Maybe', 'No', 'Yes', 'Yes', 'No', 'Yes', 'No', 'Yes', 'Yes', 'Maybe', 'Yes', 'Maybe', 'Maybe', 'Maybe', 'Yes', 'Maybe', 'Maybe', 'Maybe', 'Maybe', 'Maybe', 'Yes', 'Maybe', 'No', 'Maybe', 'Maybe', 'Yes', 'Yes', 'Maybe', 'Maybe', 'No', 'Yes', 'No', 'Maybe', 'Yes', 'Maybe', 'No', 'Maybe', 'Maybe', 'No', 'Maybe', 'No', 'No', 'Yes', 'No', 'Yes', 'Maybe', 'No', 'Yes', 'Yes', 'No', 'Maybe', 'Maybe', 'Maybe', 'Maybe', 'Maybe', 'Yes', 'Maybe', 'No', 'Maybe', 'Maybe', 'No', 'Maybe', 'No', 'Maybe', 'No', 'Maybe', 'Maybe', 'Yes', 'Maybe', 'No', 'No', 'Maybe', 'Maybe', 'Maybe', 'Maybe', 'Maybe', 'Maybe', 'No', 'Maybe', 'Maybe', 'Maybe', 'Yes', 'Maybe', 'No', 'Yes', 'No', 'Maybe', 'Yes', 'Yes', 'Yes', 'Maybe', 'No', 'Yes', 'Maybe', 'Yes', 'No'], 'Smile': ['No', 'No', 'Yes'], '9mobile': ['Maybe', 'No', 'No', 'Maybe', 'Maybe', 'Yes', 'No', 'Yes', 'Maybe', 'No', 'Yes', 'No', 'Yes', 'No', 'Yes', 'Yes'], 'SpaceX Starlink': ['Yes', 'Yes', 'No']}\n"
     ]
    }
   ],
   "source": [
    "provider_churn = {provider: [] for provider in all_providers}\n",
    "\n",
    "# Iterate through the dataframe to extract churn status for each provider\n",
    "for i, row in data.iterrows():\n",
    "    providers = [p.strip() for p in row[\"primary_internet_providers\"].split(\",\")]\n",
    "    churn_status = row[\"planning_to_switch_provider\"]\n",
    "    for provider in providers:\n",
    "        if provider in provider_churn:\n",
    "            provider_churn[provider].append(churn_status)\n",
    "\n",
    "print(provider_churn) "
   ]
  },
  {
   "cell_type": "code",
   "execution_count": 13,
   "metadata": {},
   "outputs": [
    {
     "data": {
      "image/png": "[encoded data removed]",
      "text/plain": [
       "<Figure size 1000x600 with 1 Axes>"
      ]
     },
     "metadata": {},
     "output_type": "display_data"
    }
   ],
   "source": [
    "# Convert the provider churn dictionary to a dataframe\n",
    "provider_churn_df = pd.DataFrame.from_dict(provider_churn, orient='index').transpose()\n",
    "\n",
    "# Create a collection of barcharts for each providers churn counts\n",
    "provider_churn_df\n",
    "\n",
    "provider_churn_counts = provider_churn_df.apply(lambda x: x.value_counts()).fillna(0)\n",
    "\n",
    "provider_churn_counts.plot(kind='bar', figsize=(10, 6), title=f\"Churn Counts\")\n",
    "plt.xlabel('Response')\n",
    "plt.ylabel('Count')\n",
    "plt.xticks(rotation=45)\n",
    "plt.tight_layout()\n",
    "plt.show()"
   ]
  },
  {
   "cell_type": "markdown",
   "metadata": {},
   "source": [
    "This chart shows that MTN and Airtel are the most affected by user churn. Although this might be due to the fact that they have more customers in general. AFIT CICT also have a high level of people that want to stop using it which might mean there's also a difficulties expericenced when using the schools Wi-Fi "
   ]
  },
  {
   "cell_type": "markdown",
   "metadata": {},
   "source": [
    "Now lets understand the experience of the users for each carrier"
   ]
  },
  {
   "cell_type": "code",
   "execution_count": 14,
   "metadata": {},
   "outputs": [],
   "source": [
    "provider_experience_df = data[[\"mtn_experience_rating\", \"airtel_experience_rating\", \"glo_experience_rating\", \"afit_cict_experience_rating\", \"nine_mobile_experience_rating\"]]\n",
    "\n",
    "provider_experience_df = provider_experience_df.rename(columns={\n",
    "    \"mtn_experience_rating\": \"MTN\",\n",
    "    \"airtel_experience_rating\": \"Airtel\",\n",
    "    \"glo_experience_rating\": \"GLO\",\n",
    "    \"afit_cict_experience_rating\": \"AFIT CICT\",\n",
    "    \"nine_mobile_experience_rating\": \"9mobile\"\n",
    "})"
   ]
  },
  {
   "cell_type": "code",
   "execution_count": 15,
   "metadata": {},
   "outputs": [
    {
     "data": {
      "text/plain": [
       "<Axes: >"
      ]
     },
     "execution_count": 15,
     "metadata": {},
     "output_type": "execute_result"
    },
    {
     "data": {
      "image/png": "[encoded data removed]",
      "text/plain": [
       "<Figure size 1200x900 with 1 Axes>"
      ]
     },
     "metadata": {},
     "output_type": "display_data"
    }
   ],
   "source": [
    "provider_experience_counts = provider_experience_df.apply(lambda x: x.value_counts())\n",
    "\n",
    "provider_experience_counts = provider_experience_counts.drop(0.0)\n",
    "provider_experience_counts.plot(kind=\"bar\", figsize=(12, 9))"
   ]
  },
  {
   "cell_type": "code",
   "execution_count": 16,
   "metadata": {},
   "outputs": [
    {
     "data": {
      "application/vnd.plotly.v1+json": {
       "config": {
        "linkText": "Export to plot.ly",
        "plotlyServerURL": "https://plot.ly",
        "showLink": false
       },
       "data": [
        {
         "hovertemplate": "Network: MTN<br>: %{y}<extra></extra>",
         "name": "MTN",
         "type": "bar",
         "x": [
          1,
          2,
          3,
          4,
          5
         ],
         "y": [
          94,
          87,
          51,
          11,
          4
         ]
        },
        {
         "hovertemplate": "Network: Airtel<br>: %{y}<extra></extra>",
         "name": "Airtel",
         "type": "bar",
         "x": [
          1,
          2,
          3,
          4,
          5
         ],
         "y": [
          50,
          82,
          68,
          25,
          3
         ]
        },
        {
         "hovertemplate": "Network: GLO<br>: %{y}<extra></extra>",
         "name": "GLO",
         "type": "bar",
         "x": [
          1,
          2,
          3,
          4,
          5
         ],
         "y": [
          30,
          32,
          48,
          15,
          4
         ]
        },
        {
         "hovertemplate": "Network: AFIT CICT<br>: %{y}<extra></extra>",
         "name": "AFIT CICT",
         "type": "bar",
         "x": [
          1,
          2,
          3,
          4,
          5
         ],
         "y": [
          53,
          90,
          63,
          26,
          3
         ]
        },
        {
         "hovertemplate": "Network: 9mobile<br>: %{y}<extra></extra>",
         "name": "9mobile",
         "type": "bar",
         "x": [
          1,
          2,
          3,
          4,
          5
         ],
         "y": [
          50,
          19,
          12,
          3,
          2
         ]
        }
       ],
       "layout": {
        "barmode": "group",
        "legend": {
         "title": {
          "text": "Mobile Network Provider"
         }
        },
        "template": {
         "data": {
          "bar": [
           {
            "error_x": {
             "color": "#2a3f5f"
            },
            "error_y": {
             "color": "#2a3f5f"
            },
            "marker": {
             "line": {
              "color": "#E5ECF6",
              "width": 0.5
             },
             "pattern": {
              "fillmode": "overlay",
              "size": 10,
              "solidity": 0.2
             }
            },
            "type": "bar"
           }
          ],
          "barpolar": [
           {
            "marker": {
             "line": {
              "color": "#E5ECF6",
              "width": 0.5
             },
             "pattern": {
              "fillmode": "overlay",
              "size": 10,
              "solidity": 0.2
             }
            },
            "type": "barpolar"
           }
          ],
          "carpet": [
           {
            "aaxis": {
             "endlinecolor": "#2a3f5f",
             "gridcolor": "white",
             "linecolor": "white",
             "minorgridcolor": "white",
             "startlinecolor": "#2a3f5f"
            },
            "baxis": {
             "endlinecolor": "#2a3f5f",
             "gridcolor": "white",
             "linecolor": "white",
             "minorgridcolor": "white",
             "startlinecolor": "#2a3f5f"
            },
            "type": "carpet"
           }
          ],
          "choropleth": [
           {
            "colorbar": {
             "outlinewidth": 0,
             "ticks": ""
            },
            "type": "choropleth"
           }
          ],
          "contour": [
           {
            "colorbar": {
             "outlinewidth": 0,
             "ticks": ""
            },
            "colorscale": [
             [
              0,
              "#0d0887"
             ],
             [
              0.1111111111111111,
              "#46039f"
             ],
             [
              0.2222222222222222,
              "#7201a8"
             ],
             [
              0.3333333333333333,
              "#9c179e"
             ],
             [
              0.4444444444444444,
              "#bd3786"
             ],
             [
              0.5555555555555556,
              "#d8576b"
             ],
             [
              0.6666666666666666,
              "#ed7953"
             ],
             [
              0.7777777777777778,
              "#fb9f3a"
             ],
             [
              0.8888888888888888,
              "#fdca26"
             ],
             [
              1,
              "#f0f921"
             ]
            ],
            "type": "contour"
           }
          ],
          "contourcarpet": [
           {
            "colorbar": {
             "outlinewidth": 0,
             "ticks": ""
            },
            "type": "contourcarpet"
           }
          ],
          "heatmap": [
           {
            "colorbar": {
             "outlinewidth": 0,
             "ticks": ""
            },
            "colorscale": [
             [
              0,
              "#0d0887"
             ],
             [
              0.1111111111111111,
              "#46039f"
             ],
             [
              0.2222222222222222,
              "#7201a8"
             ],
             [
              0.3333333333333333,
              "#9c179e"
             ],
             [
              0.4444444444444444,
              "#bd3786"
             ],
             [
              0.5555555555555556,
              "#d8576b"
             ],
             [
              0.6666666666666666,
              "#ed7953"
             ],
             [
              0.7777777777777778,
              "#fb9f3a"
             ],
             [
              0.8888888888888888,
              "#fdca26"
             ],
             [
              1,
              "#f0f921"
             ]
            ],
            "type": "heatmap"
           }
          ],
          "heatmapgl": [
           {
            "colorbar": {
             "outlinewidth": 0,
             "ticks": ""
            },
            "colorscale": [
             [
              0,
              "#0d0887"
             ],
             [
              0.1111111111111111,
              "#46039f"
             ],
             [
              0.2222222222222222,
              "#7201a8"
             ],
             [
              0.3333333333333333,
              "#9c179e"
             ],
             [
              0.4444444444444444,
              "#bd3786"
             ],
             [
              0.5555555555555556,
              "#d8576b"
             ],
             [
              0.6666666666666666,
              "#ed7953"
             ],
             [
              0.7777777777777778,
              "#fb9f3a"
             ],
             [
              0.8888888888888888,
              "#fdca26"
             ],
             [
              1,
              "#f0f921"
             ]
            ],
            "type": "heatmapgl"
           }
          ],
          "histogram": [
           {
            "marker": {
             "pattern": {
              "fillmode": "overlay",
              "size": 10,
              "solidity": 0.2
             }
            },
            "type": "histogram"
           }
          ],
          "histogram2d": [
           {
            "colorbar": {
             "outlinewidth": 0,
             "ticks": ""
            },
            "colorscale": [
             [
              0,
              "#0d0887"
             ],
             [
              0.1111111111111111,
              "#46039f"
             ],
             [
              0.2222222222222222,
              "#7201a8"
             ],
             [
              0.3333333333333333,
              "#9c179e"
             ],
             [
              0.4444444444444444,
              "#bd3786"
             ],
             [
              0.5555555555555556,
              "#d8576b"
             ],
             [
              0.6666666666666666,
              "#ed7953"
             ],
             [
              0.7777777777777778,
              "#fb9f3a"
             ],
             [
              0.8888888888888888,
              "#fdca26"
             ],
             [
              1,
              "#f0f921"
             ]
            ],
            "type": "histogram2d"
           }
          ],
          "histogram2dcontour": [
           {
            "colorbar": {
             "outlinewidth": 0,
             "ticks": ""
            },
            "colorscale": [
             [
              0,
              "#0d0887"
             ],
             [
              0.1111111111111111,
              "#46039f"
             ],
             [
              0.2222222222222222,
              "#7201a8"
             ],
             [
              0.3333333333333333,
              "#9c179e"
             ],
             [
              0.4444444444444444,
              "#bd3786"
             ],
             [
              0.5555555555555556,
              "#d8576b"
             ],
             [
              0.6666666666666666,
              "#ed7953"
             ],
             [
              0.7777777777777778,
              "#fb9f3a"
             ],
             [
              0.8888888888888888,
              "#fdca26"
             ],
             [
              1,
              "#f0f921"
             ]
            ],
            "type": "histogram2dcontour"
           }
          ],
          "mesh3d": [
           {
            "colorbar": {
             "outlinewidth": 0,
             "ticks": ""
            },
            "type": "mesh3d"
           }
          ],
          "parcoords": [
           {
            "line": {
             "colorbar": {
              "outlinewidth": 0,
              "ticks": ""
             }
            },
            "type": "parcoords"
           }
          ],
          "pie": [
           {
            "automargin": true,
            "type": "pie"
           }
          ],
          "scatter": [
           {
            "fillpattern": {
             "fillmode": "overlay",
             "size": 10,
             "solidity": 0.2
            },
            "type": "scatter"
           }
          ],
          "scatter3d": [
           {
            "line": {
             "colorbar": {
              "outlinewidth": 0,
              "ticks": ""
             }
            },
            "marker": {
             "colorbar": {
              "outlinewidth": 0,
              "ticks": ""
             }
            },
            "type": "scatter3d"
           }
          ],
          "scattercarpet": [
           {
            "marker": {
             "colorbar": {
              "outlinewidth": 0,
              "ticks": ""
             }
            },
            "type": "scattercarpet"
           }
          ],
          "scattergeo": [
           {
            "marker": {
             "colorbar": {
              "outlinewidth": 0,
              "ticks": ""
             }
            },
            "type": "scattergeo"
           }
          ],
          "scattergl": [
           {
            "marker": {
             "colorbar": {
              "outlinewidth": 0,
              "ticks": ""
             }
            },
            "type": "scattergl"
           }
          ],
          "scattermapbox": [
           {
            "marker": {
             "colorbar": {
              "outlinewidth": 0,
              "ticks": ""
             }
            },
            "type": "scattermapbox"
           }
          ],
          "scatterpolar": [
           {
            "marker": {
             "colorbar": {
              "outlinewidth": 0,
              "ticks": ""
             }
            },
            "type": "scatterpolar"
           }
          ],
          "scatterpolargl": [
           {
            "marker": {
             "colorbar": {
              "outlinewidth": 0,
              "ticks": ""
             }
            },
            "type": "scatterpolargl"
           }
          ],
          "scatterternary": [
           {
            "marker": {
             "colorbar": {
              "outlinewidth": 0,
              "ticks": ""
             }
            },
            "type": "scatterternary"
           }
          ],
          "surface": [
           {
            "colorbar": {
             "outlinewidth": 0,
             "ticks": ""
            },
            "colorscale": [
             [
              0,
              "#0d0887"
             ],
             [
              0.1111111111111111,
              "#46039f"
             ],
             [
              0.2222222222222222,
              "#7201a8"
             ],
             [
              0.3333333333333333,
              "#9c179e"
             ],
             [
              0.4444444444444444,
              "#bd3786"
             ],
             [
              0.5555555555555556,
              "#d8576b"
             ],
             [
              0.6666666666666666,
              "#ed7953"
             ],
             [
              0.7777777777777778,
              "#fb9f3a"
             ],
             [
              0.8888888888888888,
              "#fdca26"
             ],
             [
              1,
              "#f0f921"
             ]
            ],
            "type": "surface"
           }
          ],
          "table": [
           {
            "cells": {
             "fill": {
              "color": "#EBF0F8"
             },
             "line": {
              "color": "white"
             }
            },
            "header": {
             "fill": {
              "color": "#C8D4E3"
             },
             "line": {
              "color": "white"
             }
            },
            "type": "table"
           }
          ]
         },
         "layout": {
          "annotationdefaults": {
           "arrowcolor": "#2a3f5f",
           "arrowhead": 0,
           "arrowwidth": 1
          },
          "autotypenumbers": "strict",
          "coloraxis": {
           "colorbar": {
            "outlinewidth": 0,
            "ticks": ""
           }
          },
          "colorscale": {
           "diverging": [
            [
             0,
             "#8e0152"
            ],
            [
             0.1,
             "#c51b7d"
            ],
            [
             0.2,
             "#de77ae"
            ],
            [
             0.3,
             "#f1b6da"
            ],
            [
             0.4,
             "#fde0ef"
            ],
            [
             0.5,
             "#f7f7f7"
            ],
            [
             0.6,
             "#e6f5d0"
            ],
            [
             0.7,
             "#b8e186"
            ],
            [
             0.8,
             "#7fbc41"
            ],
            [
             0.9,
             "#4d9221"
            ],
            [
             1,
             "#276419"
            ]
           ],
           "sequential": [
            [
             0,
             "#0d0887"
            ],
            [
             0.1111111111111111,
             "#46039f"
            ],
            [
             0.2222222222222222,
             "#7201a8"
            ],
            [
             0.3333333333333333,
             "#9c179e"
            ],
            [
             0.4444444444444444,
             "#bd3786"
            ],
            [
             0.5555555555555556,
             "#d8576b"
            ],
            [
             0.6666666666666666,
             "#ed7953"
            ],
            [
             0.7777777777777778,
             "#fb9f3a"
            ],
            [
             0.8888888888888888,
             "#fdca26"
            ],
            [
             1,
             "#f0f921"
            ]
           ],
           "sequentialminus": [
            [
             0,
             "#0d0887"
            ],
            [
             0.1111111111111111,
             "#46039f"
            ],
            [
             0.2222222222222222,
             "#7201a8"
            ],
            [
             0.3333333333333333,
             "#9c179e"
            ],
            [
             0.4444444444444444,
             "#bd3786"
            ],
            [
             0.5555555555555556,
             "#d8576b"
            ],
            [
             0.6666666666666666,
             "#ed7953"
            ],
            [
             0.7777777777777778,
             "#fb9f3a"
            ],
            [
             0.8888888888888888,
             "#fdca26"
            ],
            [
             1,
             "#f0f921"
            ]
           ]
          },
          "colorway": [
           "#636efa",
           "#EF553B",
           "#00cc96",
           "#ab63fa",
           "#FFA15A",
           "#19d3f3",
           "#FF6692",
           "#B6E880",
           "#FF97FF",
           "#FECB52"
          ],
          "font": {
           "color": "#2a3f5f"
          },
          "geo": {
           "bgcolor": "white",
           "lakecolor": "white",
           "landcolor": "#E5ECF6",
           "showlakes": true,
           "showland": true,
           "subunitcolor": "white"
          },
          "hoverlabel": {
           "align": "left"
          },
          "hovermode": "closest",
          "mapbox": {
           "style": "light"
          },
          "paper_bgcolor": "white",
          "plot_bgcolor": "#E5ECF6",
          "polar": {
           "angularaxis": {
            "gridcolor": "white",
            "linecolor": "white",
            "ticks": ""
           },
           "bgcolor": "#E5ECF6",
           "radialaxis": {
            "gridcolor": "white",
            "linecolor": "white",
            "ticks": ""
           }
          },
          "scene": {
           "xaxis": {
            "backgroundcolor": "#E5ECF6",
            "gridcolor": "white",
            "gridwidth": 2,
            "linecolor": "white",
            "showbackground": true,
            "ticks": "",
            "zerolinecolor": "white"
           },
           "yaxis": {
            "backgroundcolor": "#E5ECF6",
            "gridcolor": "white",
            "gridwidth": 2,
            "linecolor": "white",
            "showbackground": true,
            "ticks": "",
            "zerolinecolor": "white"
           },
           "zaxis": {
            "backgroundcolor": "#E5ECF6",
            "gridcolor": "white",
            "gridwidth": 2,
            "linecolor": "white",
            "showbackground": true,
            "ticks": "",
            "zerolinecolor": "white"
           }
          },
          "shapedefaults": {
           "line": {
            "color": "#2a3f5f"
           }
          },
          "ternary": {
           "aaxis": {
            "gridcolor": "white",
            "linecolor": "white",
            "ticks": ""
           },
           "baxis": {
            "gridcolor": "white",
            "linecolor": "white",
            "ticks": ""
           },
           "bgcolor": "#E5ECF6",
           "caxis": {
            "gridcolor": "white",
            "linecolor": "white",
            "ticks": ""
           }
          },
          "title": {
           "x": 0.05
          },
          "xaxis": {
           "automargin": true,
           "gridcolor": "white",
           "linecolor": "white",
           "ticks": "",
           "title": {
            "standoff": 15
           },
           "zerolinecolor": "white",
           "zerolinewidth": 2
          },
          "yaxis": {
           "automargin": true,
           "gridcolor": "white",
           "linecolor": "white",
           "ticks": "",
           "title": {
            "standoff": 15
           },
           "zerolinecolor": "white",
           "zerolinewidth": 2
          }
         }
        },
        "title": {
         "text": "Provider Experience Ratings"
        },
        "xaxis": {
         "title": {
          "text": "Rating"
         }
        },
        "yaxis": {
         "title": {
          "text": "Count"
         }
        }
       }
      }
     },
     "metadata": {},
     "output_type": "display_data"
    }
   ],
   "source": [
    "# Prepare data for Plotly\n",
    "ratings = provider_experience_counts.index.tolist()\n",
    "providers = provider_experience_counts.columns.tolist()\n",
    "\n",
    "fig = go.Figure()\n",
    "\n",
    "for provider in providers:\n",
    "    fig.add_trace(go.Bar(x=ratings, y=provider_experience_counts[provider], name=provider,\n",
    "                         hovertemplate=f'Network: {provider}<br>: %{{y}}<extra></extra>'))\n",
    "\n",
    "fig.update_layout(\n",
    "    title='Provider Experience Ratings',\n",
    "    xaxis_title='Rating',\n",
    "    yaxis_title='Count',\n",
    "    legend_title='Mobile Network Provider',\n",
    "    barmode='group' # To show bars side by side for different providers\n",
    ")\n",
    "\n",
    "iplot(fig)"
   ]
  },
  {
   "cell_type": "markdown",
   "metadata": {},
   "source": [
    "This chart shows that very few students reported top tier ratings (4 and 5), while a majority of them gave lower ratings (1 and 2). Students ratings are generally skewed to the lower end meaning there is a horrible experience with network providers across board."
   ]
  },
  {
   "cell_type": "markdown",
   "metadata": {},
   "source": [
    "##### **Final Thoughts on Internet Providers**\n",
    "\n",
    "Given the fact that MTN and Airtel are the most used providers on campus and there is general dissatisfaction with the quality of internet from them, also the fact that their internet experience is rated poorly, the overall poor experience is coming from them. \n",
    "AFIT CICT also shows sub-optimal internet performance across all metrics, which means the quality of the internet provided by the school is very poor."
   ]
  },
  {
   "cell_type": "markdown",
   "metadata": {},
   "source": [
    "#### **Location**"
   ]
  },
  {
   "cell_type": "markdown",
   "metadata": {},
   "source": [
    "First let's see where students are living either on or off campus"
   ]
  },
  {
   "cell_type": "code",
   "execution_count": 17,
   "metadata": {},
   "outputs": [
    {
     "data": {
      "text/plain": [
       "residence\n",
       "School Hostel             147\n",
       "Barkallahu                 87\n",
       "Commute within Kaduna      33\n",
       "Airforce Base              21\n",
       "Agric Quarters             15\n",
       "Mando                      10\n",
       "Kawo                        8\n",
       "Commute outside Kaduna      6\n",
       "Name: count, dtype: int64"
      ]
     },
     "execution_count": 17,
     "metadata": {},
     "output_type": "execute_result"
    }
   ],
   "source": [
    "data[\"residence\"].value_counts()"
   ]
  },
  {
   "cell_type": "code",
   "execution_count": 18,
   "metadata": {},
   "outputs": [],
   "source": [
    "def campus_identifier(resid):\n",
    "    if resid == \"School Hostel\":\n",
    "        return \"On Campus\"\n",
    "    else:\n",
    "        return \"Off Campus\"\n",
    "    \n",
    "data[\"campus_status\"] = data[\"residence\"].apply(campus_identifier)\n",
    "campus_status = data[\"campus_status\"].value_counts()\n"
   ]
  },
  {
   "cell_type": "code",
   "execution_count": 19,
   "metadata": {},
   "outputs": [
    {
     "data": {
      "image/png": "[encoded data removed]",
      "text/plain": [
       "<Figure size 800x700 with 1 Axes>"
      ]
     },
     "metadata": {},
     "output_type": "display_data"
    }
   ],
   "source": [
    "plt.figure(figsize=(8, 7))\n",
    "plt.pie(campus_status, labels=campus_status.index, autopct='%1.1f%%', startangle=140, colors=sns.color_palette(\"pastel\"))\n",
    "plt.title('Distribution of Students On or Off Campus', fontsize=16, pad=20)\n",
    "plt.axis('equal')  # Equal aspect ratio ensures that pie is drawn as a circle.\n",
    "plt.show()"
   ]
  },
  {
   "cell_type": "markdown",
   "metadata": {},
   "source": [
    "Now let's start with how frequently students run into internet issues"
   ]
  },
  {
   "cell_type": "code",
   "execution_count": 20,
   "metadata": {},
   "outputs": [
    {
     "data": {
      "text/plain": [
       "<Axes: title={'center': 'Internet Issues Frequency by Campus Status'}, xlabel='internet_issues_frequency'>"
      ]
     },
     "execution_count": 20,
     "metadata": {},
     "output_type": "execute_result"
    },
    {
     "data": {
      "image/png": "[encoded data removed]",
      "text/plain": [
       "<Figure size 1200x600 with 1 Axes>"
      ]
     },
     "metadata": {},
     "output_type": "display_data"
    }
   ],
   "source": [
    "campus_satisfaction_grouping = data[[\"campus_status\", \"internet_issues_frequency\"]].groupby(\"internet_issues_frequency\").value_counts()\n",
    "campus_satisfaction_grouping = campus_satisfaction_grouping.unstack().fillna(0.0)\n",
    "campus_satisfaction_grouping.plot(kind=\"bar\", figsize=(12, 6), title=\"Internet Issues Frequency by Campus Status\")"
   ]
  },
  {
   "cell_type": "code",
   "execution_count": 21,
   "metadata": {},
   "outputs": [],
   "source": [
    "# data[[\"campus_status\", \"main_internet_issues\"]]\n",
    "\n",
    "main_internet_issues = list(data[\"main_internet_issues\"].str.split(\", \").explode().unique())\n",
    "\n",
    "main_issues_count_list = []\n",
    "for issue in main_internet_issues:\n",
    "    issue_value_counts = data[\"campus_status\"][data[\"main_internet_issues\"].str.contains(issue)].value_counts()\n",
    "    for campus, count in issue_value_counts.items():\n",
    "        main_issues_count_list.append({'Issue': issue, 'Campus': campus, 'Count': count})\n",
    "\n",
    "main_issues_by_campus_df = pd.DataFrame(main_issues_count_list)"
   ]
  },
  {
   "cell_type": "code",
   "execution_count": 31,
   "metadata": {},
   "outputs": [
    {
     "data": {
      "image/png": "[encoded data removed]",
      "text/plain": [
       "<Figure size 800x700 with 1 Axes>"
      ]
     },
     "metadata": {},
     "output_type": "display_data"
    }
   ],
   "source": [
    "main_internet_issues_counts = data[\"main_internet_issues\"].str.split(\", \").explode().value_counts()\n",
    "\n",
    "plt.figure(figsize=(8, 7))\n",
    "plt.pie(main_internet_issues_counts, labels=main_internet_issues_counts.index, autopct='%1.1f%%', startangle=140, colors=sns.color_palette(\"pastel\"))\n",
    "plt.title('Main Internet Issues on Campus', fontsize=16, pad=20)\n",
    "plt.axis('equal')  # Equal aspect ratio ensures that pie is drawn as a circle.\n",
    "plt.show()"
   ]
  },
  {
   "cell_type": "code",
   "execution_count": 26,
   "metadata": {},
   "outputs": [
    {
     "data": {
      "image/png": "[encoded data removed]",
      "text/plain": [
       "<Figure size 1200x600 with 1 Axes>"
      ]
     },
     "metadata": {},
     "output_type": "display_data"
    }
   ],
   "source": [
    "plt.figure(figsize=(12, 6))\n",
    "sns.barplot(data=main_issues_by_campus_df, x='Issue', y='Count', hue='Campus')\n",
    "plt.title('Internet Issues by Campus Status')\n",
    "plt.xlabel('Internet Issue')\n",
    "plt.ylabel('Count')\n",
    "plt.xticks(rotation=25, ha='right')\n",
    "plt.tight_layout()\n",
    "plt.show()"
   ]
  },
  {
   "cell_type": "code",
   "execution_count": null,
   "metadata": {},
   "outputs": [],
   "source": []
  },
  {
   "cell_type": "code",
   "execution_count": null,
   "metadata": {},
   "outputs": [
    {
     "data": {
      "text/plain": [
       "most_time_spent_on\n",
       "Productivity/Work               190\n",
       "Socials                         179\n",
       "Messaging                       127\n",
       "Readable content                120\n",
       "Movie & TV downloads             75\n",
       "Audio streaming or downloads     65\n",
       "Video Streaming                  64\n",
       "Gaming                           49\n",
       "Name: count, dtype: int64"
      ]
     },
     "execution_count": 22,
     "metadata": {},
     "output_type": "execute_result"
    }
   ],
   "source": [
    "# Getting the individual values in the \"most_time_spent_on\" column\n",
    "exploded_most_time_spent_on = data[\"most_time_spent_on\"].str.split(', ').explode()\n",
    "exploded_most_time_spent_on = exploded_most_time_spent_on.str.strip(\",\").str.strip() # Remove leading and trailing commas and whitespaces\n",
    "time_on_activity_count = exploded_most_time_spent_on.value_counts().head(8)\n",
    "time_on_activity_count "
   ]
  },
  {
   "cell_type": "code",
   "execution_count": null,
   "metadata": {},
   "outputs": [
    {
     "data": {
      "text/plain": [
       "<Axes: ylabel='most_time_spent_on'>"
      ]
     },
     "execution_count": 23,
     "metadata": {},
     "output_type": "execute_result"
    },
    {
     "data": {
      "image/png": "[encoded data removed]",
      "text/plain": [
       "<Figure size 1200x800 with 1 Axes>"
      ]
     },
     "metadata": {},
     "output_type": "display_data"
    }
   ],
   "source": [
    "plt.figure(figsize=(12, 8))\n",
    "sns.barplot(x=time_on_activity_count.values, y=time_on_activity_count.index, palette=\"viridis\", hue=time_on_activity_count.index, legend=False)"
   ]
  }
 ],
 "metadata": {
  "kernelspec": {
   "display_name": "base",
   "language": "python",
   "name": "python3"
  },
  "language_info": {
   "codemirror_mode": {
    "name": "ipython",
    "version": 3
   },
   "file_extension": ".py",
   "mimetype": "text/x-python",
   "name": "python",
   "nbconvert_exporter": "python",
   "pygments_lexer": "ipython3",
   "version": "3.12.3"
  }
 },
 "nbformat": 4,
 "nbformat_minor": 2
}
